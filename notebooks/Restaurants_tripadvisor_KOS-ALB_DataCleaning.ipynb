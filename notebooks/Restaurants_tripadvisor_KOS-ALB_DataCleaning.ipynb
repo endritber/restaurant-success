{
 "cells": [
  {
   "cell_type": "code",
   "execution_count": 1,
   "id": "3b6cf6a1",
   "metadata": {},
   "outputs": [],
   "source": [
    "import pickle\n",
    "import os\n",
    "\n",
    "import pandas as pd"
   ]
  },
  {
   "cell_type": "markdown",
   "id": "640abbe3",
   "metadata": {},
   "source": [
    "#### Loading Businesses and Reviews\n",
    "\n",
    "Loading businesses and reviews for Kosovo, Tirana, Sarande, Vlore, Lezhe, Shengjin Counties."
   ]
  },
  {
   "cell_type": "code",
   "execution_count": 2,
   "id": "2b98fe2a",
   "metadata": {},
   "outputs": [],
   "source": [
    "def load_data(path):\n",
    "    df_unstructured = pd.DataFrame()\n",
    "    df_reviews = pd.DataFrame()\n",
    "    for filename in os.listdir(path):\n",
    "        if filename.split('.')[0].split('_')[-1] == 'data':\n",
    "            data = pd.DataFrame(pickle.load(open(f\"{path}/{filename}\", 'rb')))\n",
    "            df_unstructured = pd.concat([df_unstructured, data])\n",
    "        else:\n",
    "            data = pd.DataFrame(pickle.load(open(f\"{path}/{filename}\", 'rb')))\n",
    "            df_reviews = pd.concat([df_reviews, data])\n",
    "    return df_unstructured.reset_index(drop=True), df_reviews.reset_index(drop=True)"
   ]
  },
  {
   "cell_type": "code",
   "execution_count": 3,
   "id": "747da738",
   "metadata": {
    "scrolled": true
   },
   "outputs": [],
   "source": [
    "df_unstructured, df_reviews = load_data('../datasets')"
   ]
  },
  {
   "cell_type": "code",
   "execution_count": 4,
   "id": "a6d67464",
   "metadata": {},
   "outputs": [
    {
     "data": {
      "text/html": [
       "<div>\n",
       "<style scoped>\n",
       "    .dataframe tbody tr th:only-of-type {\n",
       "        vertical-align: middle;\n",
       "    }\n",
       "\n",
       "    .dataframe tbody tr th {\n",
       "        vertical-align: top;\n",
       "    }\n",
       "\n",
       "    .dataframe thead th {\n",
       "        text-align: right;\n",
       "    }\n",
       "</style>\n",
       "<table border=\"1\" class=\"dataframe\">\n",
       "  <thead>\n",
       "    <tr style=\"text-align: right;\">\n",
       "      <th></th>\n",
       "      <th>business_id</th>\n",
       "      <th>business_name</th>\n",
       "      <th>categories</th>\n",
       "      <th>city</th>\n",
       "      <th>full_address</th>\n",
       "      <th>display_phone</th>\n",
       "      <th>review_count</th>\n",
       "      <th>stars</th>\n",
       "      <th>price_tag</th>\n",
       "      <th>is_claimed</th>\n",
       "      <th>is_closed</th>\n",
       "      <th>coordinates</th>\n",
       "      <th>image</th>\n",
       "      <th>url</th>\n",
       "    </tr>\n",
       "  </thead>\n",
       "  <tbody>\n",
       "    <tr>\n",
       "      <th>0</th>\n",
       "      <td>f3a6c1e4-fd78-4675-82a1-5dfd68c1e1ab</td>\n",
       "      <td>La Pizza Nostra</td>\n",
       "      <td>[Pizza]</td>\n",
       "      <td>Tirana County</td>\n",
       "      <td>Rruga Perlat Rexhepi, Tirana Albania</td>\n",
       "      <td>+355 69 309 9999</td>\n",
       "      <td>15</td>\n",
       "      <td>5.0</td>\n",
       "      <td>$</td>\n",
       "      <td>True</td>\n",
       "      <td>False</td>\n",
       "      <td>[41.318115, 19.817093]</td>\n",
       "      <td>data:image/gif;base64,R0lGODlhAQABAAAAACH5BAEK...</td>\n",
       "      <td>https://www.tripadvisor.com/Restaurant_Review-...</td>\n",
       "    </tr>\n",
       "    <tr>\n",
       "      <th>1</th>\n",
       "      <td>360fcd61-8ed6-4e98-bd4d-9ab50fa8c290</td>\n",
       "      <td>Cioccolatitaliani Kalaja</td>\n",
       "      <td>[]</td>\n",
       "      <td>Tirana County</td>\n",
       "      <td>Rruga Murat Toptani, Tirana 1001 Albania</td>\n",
       "      <td>None</td>\n",
       "      <td>12</td>\n",
       "      <td>3.5</td>\n",
       "      <td>$$$$</td>\n",
       "      <td>True</td>\n",
       "      <td>False</td>\n",
       "      <td>[41.325882, 19.8225]</td>\n",
       "      <td>data:image/gif;base64,R0lGODlhAQABAAAAACH5BAEK...</td>\n",
       "      <td>https://www.tripadvisor.com/Restaurant_Review-...</td>\n",
       "    </tr>\n",
       "    <tr>\n",
       "      <th>2</th>\n",
       "      <td>f9912145-1a1a-41fe-89c6-243e37825eb6</td>\n",
       "      <td>Baza Bar</td>\n",
       "      <td>[Fast Food]</td>\n",
       "      <td>Tirana County</td>\n",
       "      <td>Rruga Gjin Bue Shpata 10, Tirana 1001, Tirana ...</td>\n",
       "      <td>+355 69 725 4485</td>\n",
       "      <td>0</td>\n",
       "      <td>0.0</td>\n",
       "      <td>No price tag</td>\n",
       "      <td>False</td>\n",
       "      <td>True</td>\n",
       "      <td>[41.320923, 19.811533]</td>\n",
       "      <td>None</td>\n",
       "      <td>https://www.tripadvisor.com/Restaurant_Review-...</td>\n",
       "    </tr>\n",
       "    <tr>\n",
       "      <th>3</th>\n",
       "      <td>55a1094a-84fe-42de-b3a2-e5aed8a543ac</td>\n",
       "      <td>Bar Restorant Piceri Colombo</td>\n",
       "      <td>[Italian, Mediterranean, European, Greek]</td>\n",
       "      <td>Tirana County</td>\n",
       "      <td>Rr. Reshit Petrela, Ish Stacioni Trenit, 100m ...</td>\n",
       "      <td>+355 69 693 7666</td>\n",
       "      <td>5</td>\n",
       "      <td>3.0</td>\n",
       "      <td>No price tag</td>\n",
       "      <td>False</td>\n",
       "      <td>False</td>\n",
       "      <td>[41.335743, 19.81529]</td>\n",
       "      <td>data:image/gif;base64,R0lGODlhAQABAAAAACH5BAEK...</td>\n",
       "      <td>https://www.tripadvisor.com/Restaurant_Review-...</td>\n",
       "    </tr>\n",
       "    <tr>\n",
       "      <th>4</th>\n",
       "      <td>021324f7-7875-430f-9026-18ebaece43e0</td>\n",
       "      <td>Casa della Pasta</td>\n",
       "      <td>[Italian, European, Albanian]</td>\n",
       "      <td>Tirana County</td>\n",
       "      <td>Rruga Halim Xhelo 11, Tirana 1023 Albania</td>\n",
       "      <td>+355 68 908 3863</td>\n",
       "      <td>3</td>\n",
       "      <td>4.0</td>\n",
       "      <td>$</td>\n",
       "      <td>True</td>\n",
       "      <td>False</td>\n",
       "      <td>[41.32788, 19.806349]</td>\n",
       "      <td>data:image/gif;base64,R0lGODlhAQABAAAAACH5BAEK...</td>\n",
       "      <td>https://www.tripadvisor.com/Restaurant_Review-...</td>\n",
       "    </tr>\n",
       "  </tbody>\n",
       "</table>\n",
       "</div>"
      ],
      "text/plain": [
       "                            business_id                 business_name  \\\n",
       "0  f3a6c1e4-fd78-4675-82a1-5dfd68c1e1ab               La Pizza Nostra   \n",
       "1  360fcd61-8ed6-4e98-bd4d-9ab50fa8c290      Cioccolatitaliani Kalaja   \n",
       "2  f9912145-1a1a-41fe-89c6-243e37825eb6                      Baza Bar   \n",
       "3  55a1094a-84fe-42de-b3a2-e5aed8a543ac  Bar Restorant Piceri Colombo   \n",
       "4  021324f7-7875-430f-9026-18ebaece43e0              Casa della Pasta   \n",
       "\n",
       "                                  categories             city  \\\n",
       "0                                    [Pizza]  Tirana County     \n",
       "1                                         []  Tirana County     \n",
       "2                                [Fast Food]  Tirana County     \n",
       "3  [Italian, Mediterranean, European, Greek]  Tirana County     \n",
       "4              [Italian, European, Albanian]  Tirana County     \n",
       "\n",
       "                                        full_address     display_phone  \\\n",
       "0               Rruga Perlat Rexhepi, Tirana Albania  +355 69 309 9999   \n",
       "1           Rruga Murat Toptani, Tirana 1001 Albania              None   \n",
       "2  Rruga Gjin Bue Shpata 10, Tirana 1001, Tirana ...  +355 69 725 4485   \n",
       "3  Rr. Reshit Petrela, Ish Stacioni Trenit, 100m ...  +355 69 693 7666   \n",
       "4          Rruga Halim Xhelo 11, Tirana 1023 Albania  +355 68 908 3863   \n",
       "\n",
       "  review_count stars     price_tag  is_claimed  is_closed  \\\n",
       "0           15  5.0              $        True      False   \n",
       "1           12  3.5           $$$$        True      False   \n",
       "2            0   0.0  No price tag       False       True   \n",
       "3            5  3.0   No price tag       False      False   \n",
       "4            3  4.0              $        True      False   \n",
       "\n",
       "              coordinates                                              image  \\\n",
       "0  [41.318115, 19.817093]  data:image/gif;base64,R0lGODlhAQABAAAAACH5BAEK...   \n",
       "1    [41.325882, 19.8225]  data:image/gif;base64,R0lGODlhAQABAAAAACH5BAEK...   \n",
       "2  [41.320923, 19.811533]                                               None   \n",
       "3   [41.335743, 19.81529]  data:image/gif;base64,R0lGODlhAQABAAAAACH5BAEK...   \n",
       "4   [41.32788, 19.806349]  data:image/gif;base64,R0lGODlhAQABAAAAACH5BAEK...   \n",
       "\n",
       "                                                 url  \n",
       "0  https://www.tripadvisor.com/Restaurant_Review-...  \n",
       "1  https://www.tripadvisor.com/Restaurant_Review-...  \n",
       "2  https://www.tripadvisor.com/Restaurant_Review-...  \n",
       "3  https://www.tripadvisor.com/Restaurant_Review-...  \n",
       "4  https://www.tripadvisor.com/Restaurant_Review-...  "
      ]
     },
     "execution_count": 4,
     "metadata": {},
     "output_type": "execute_result"
    }
   ],
   "source": [
    "df_unstructured.head()"
   ]
  },
  {
   "cell_type": "code",
   "execution_count": 5,
   "id": "a474664f",
   "metadata": {},
   "outputs": [
    {
     "data": {
      "text/html": [
       "<div>\n",
       "<style scoped>\n",
       "    .dataframe tbody tr th:only-of-type {\n",
       "        vertical-align: middle;\n",
       "    }\n",
       "\n",
       "    .dataframe tbody tr th {\n",
       "        vertical-align: top;\n",
       "    }\n",
       "\n",
       "    .dataframe thead th {\n",
       "        text-align: right;\n",
       "    }\n",
       "</style>\n",
       "<table border=\"1\" class=\"dataframe\">\n",
       "  <thead>\n",
       "    <tr style=\"text-align: right;\">\n",
       "      <th></th>\n",
       "      <th>user_id</th>\n",
       "      <th>business_id</th>\n",
       "      <th>review_id</th>\n",
       "      <th>review_date</th>\n",
       "      <th>review_title</th>\n",
       "      <th>review_text</th>\n",
       "      <th>rating</th>\n",
       "      <th>votes</th>\n",
       "    </tr>\n",
       "  </thead>\n",
       "  <tbody>\n",
       "    <tr>\n",
       "      <th>0</th>\n",
       "      <td>UID_64C07AC09E188BCE7A081939BFDAD66B-SRC_77836...</td>\n",
       "      <td>43cae344-9533-484c-bc4e-c99095cd2099</td>\n",
       "      <td>778365530</td>\n",
       "      <td>December 3, 2020</td>\n",
       "      <td></td>\n",
       "      <td>More</td>\n",
       "      <td>50</td>\n",
       "      <td>0</td>\n",
       "    </tr>\n",
       "    <tr>\n",
       "      <th>1</th>\n",
       "      <td>UID_0FE0E6284F6C99666368DE11341334C1-SRC_50595...</td>\n",
       "      <td>43cae344-9533-484c-bc4e-c99095cd2099</td>\n",
       "      <td>505951496</td>\n",
       "      <td>July 26, 2017</td>\n",
       "      <td></td>\n",
       "      <td>More</td>\n",
       "      <td>40</td>\n",
       "      <td>0</td>\n",
       "    </tr>\n",
       "    <tr>\n",
       "      <th>2</th>\n",
       "      <td>UID_42249550DB6692C78F9823BBE41F7D29-SRC_49966...</td>\n",
       "      <td>43cae344-9533-484c-bc4e-c99095cd2099</td>\n",
       "      <td>499660609</td>\n",
       "      <td>July 8, 2017</td>\n",
       "      <td></td>\n",
       "      <td>More</td>\n",
       "      <td>30</td>\n",
       "      <td>0</td>\n",
       "    </tr>\n",
       "    <tr>\n",
       "      <th>3</th>\n",
       "      <td>UID_53D877480BD8A0719BC4FEC97040DD59-SRC_79131...</td>\n",
       "      <td>8eeec4a0-4825-40ce-8169-f0a20c2d3410</td>\n",
       "      <td>791318013</td>\n",
       "      <td>June 5, 2021</td>\n",
       "      <td>Excellent food at affordable price</td>\n",
       "      <td>The best restaurant in Shengjin.  Fresh fish d...</td>\n",
       "      <td>50</td>\n",
       "      <td>1</td>\n",
       "    </tr>\n",
       "    <tr>\n",
       "      <th>4</th>\n",
       "      <td>UID_88FF89326964E5FA9090E8BD9D292620-SRC_15419...</td>\n",
       "      <td>8eeec4a0-4825-40ce-8169-f0a20c2d3410</td>\n",
       "      <td>154191986</td>\n",
       "      <td>March 10, 2013</td>\n",
       "      <td>Place for fresh seafood</td>\n",
       "      <td>If you really want to have FRESH seafood this ...</td>\n",
       "      <td>30</td>\n",
       "      <td>1</td>\n",
       "    </tr>\n",
       "  </tbody>\n",
       "</table>\n",
       "</div>"
      ],
      "text/plain": [
       "                                             user_id  \\\n",
       "0  UID_64C07AC09E188BCE7A081939BFDAD66B-SRC_77836...   \n",
       "1  UID_0FE0E6284F6C99666368DE11341334C1-SRC_50595...   \n",
       "2  UID_42249550DB6692C78F9823BBE41F7D29-SRC_49966...   \n",
       "3  UID_53D877480BD8A0719BC4FEC97040DD59-SRC_79131...   \n",
       "4  UID_88FF89326964E5FA9090E8BD9D292620-SRC_15419...   \n",
       "\n",
       "                            business_id  review_id       review_date  \\\n",
       "0  43cae344-9533-484c-bc4e-c99095cd2099  778365530  December 3, 2020   \n",
       "1  43cae344-9533-484c-bc4e-c99095cd2099  505951496     July 26, 2017   \n",
       "2  43cae344-9533-484c-bc4e-c99095cd2099  499660609      July 8, 2017   \n",
       "3  8eeec4a0-4825-40ce-8169-f0a20c2d3410  791318013      June 5, 2021   \n",
       "4  8eeec4a0-4825-40ce-8169-f0a20c2d3410  154191986    March 10, 2013   \n",
       "\n",
       "                         review_title  \\\n",
       "0                                       \n",
       "1                                       \n",
       "2                                       \n",
       "3  Excellent food at affordable price   \n",
       "4             Place for fresh seafood   \n",
       "\n",
       "                                         review_text rating votes  \n",
       "0                                               More     50     0  \n",
       "1                                               More     40     0  \n",
       "2                                               More     30     0  \n",
       "3  The best restaurant in Shengjin.  Fresh fish d...     50   1    \n",
       "4  If you really want to have FRESH seafood this ...     30   1    "
      ]
     },
     "execution_count": 5,
     "metadata": {},
     "output_type": "execute_result"
    }
   ],
   "source": [
    "df_reviews.head()"
   ]
  },
  {
   "cell_type": "code",
   "execution_count": 6,
   "id": "36d8d706",
   "metadata": {},
   "outputs": [
    {
     "data": {
      "text/plain": [
       "Index(['business_id', 'business_name', 'categories', 'city', 'full_address',\n",
       "       'display_phone', 'review_count', 'stars', 'price_tag', 'is_claimed',\n",
       "       'is_closed', 'coordinates', 'image', 'url'],\n",
       "      dtype='object')"
      ]
     },
     "execution_count": 6,
     "metadata": {},
     "output_type": "execute_result"
    }
   ],
   "source": [
    "df_unstructured.columns"
   ]
  },
  {
   "cell_type": "markdown",
   "id": "d9b4d024",
   "metadata": {},
   "source": [
    "Each encrypted business_id from the df_unstructured dataframe has corresponding entries in the df_reviews dataframe with the same business_id."
   ]
  },
  {
   "cell_type": "code",
   "execution_count": 7,
   "id": "6a369505",
   "metadata": {},
   "outputs": [],
   "source": [
    "# Reviews of the first entry of the df unstructured dataframe"
   ]
  },
  {
   "cell_type": "code",
   "execution_count": 8,
   "id": "18d83b4f",
   "metadata": {},
   "outputs": [
    {
     "data": {
      "text/html": [
       "<div>\n",
       "<style scoped>\n",
       "    .dataframe tbody tr th:only-of-type {\n",
       "        vertical-align: middle;\n",
       "    }\n",
       "\n",
       "    .dataframe tbody tr th {\n",
       "        vertical-align: top;\n",
       "    }\n",
       "\n",
       "    .dataframe thead th {\n",
       "        text-align: right;\n",
       "    }\n",
       "</style>\n",
       "<table border=\"1\" class=\"dataframe\">\n",
       "  <thead>\n",
       "    <tr style=\"text-align: right;\">\n",
       "      <th></th>\n",
       "      <th>user_id</th>\n",
       "      <th>business_id</th>\n",
       "      <th>review_id</th>\n",
       "      <th>review_date</th>\n",
       "      <th>review_title</th>\n",
       "      <th>review_text</th>\n",
       "      <th>rating</th>\n",
       "      <th>votes</th>\n",
       "    </tr>\n",
       "  </thead>\n",
       "  <tbody>\n",
       "    <tr>\n",
       "      <th>215</th>\n",
       "      <td>UID_F1FBBF099CB5E257C5FFBFB2EFA69112-SRC_86958...</td>\n",
       "      <td>f3a6c1e4-fd78-4675-82a1-5dfd68c1e1ab</td>\n",
       "      <td>869583586</td>\n",
       "      <td>November 24, 2022</td>\n",
       "      <td>It’s wonderful!</td>\n",
       "      <td>This place is probably the best pizza place in...</td>\n",
       "      <td>50</td>\n",
       "      <td></td>\n",
       "    </tr>\n",
       "    <tr>\n",
       "      <th>216</th>\n",
       "      <td>UID_9F59B845FA08C2835A51FB99F2174815-SRC_84672...</td>\n",
       "      <td>f3a6c1e4-fd78-4675-82a1-5dfd68c1e1ab</td>\n",
       "      <td>846724478</td>\n",
       "      <td>July 7, 2022</td>\n",
       "      <td>Recommend strong!!</td>\n",
       "      <td>The food was really good and with normal price...</td>\n",
       "      <td>50</td>\n",
       "      <td></td>\n",
       "    </tr>\n",
       "    <tr>\n",
       "      <th>217</th>\n",
       "      <td>UID_300C91DAF0132F4BD631CB38AFED6A1A-SRC_84392...</td>\n",
       "      <td>f3a6c1e4-fd78-4675-82a1-5dfd68c1e1ab</td>\n",
       "      <td>843928628</td>\n",
       "      <td>June 21, 2022</td>\n",
       "      <td>A great place to share with family</td>\n",
       "      <td>The manager and the personal speak albanian, I...</td>\n",
       "      <td>50</td>\n",
       "      <td></td>\n",
       "    </tr>\n",
       "    <tr>\n",
       "      <th>218</th>\n",
       "      <td>UID_EAE1D79426F499C5098C91A21F8DAB9B-SRC_84188...</td>\n",
       "      <td>f3a6c1e4-fd78-4675-82a1-5dfd68c1e1ab</td>\n",
       "      <td>841889382</td>\n",
       "      <td>June 7, 2022</td>\n",
       "      <td>Best pizza in Tirana</td>\n",
       "      <td>John and his team were the most welcoming… we ...</td>\n",
       "      <td>50</td>\n",
       "      <td></td>\n",
       "    </tr>\n",
       "    <tr>\n",
       "      <th>219</th>\n",
       "      <td>UID_8AF59B67BF1FC0017CDD1D76EDE70DDC-SRC_84188...</td>\n",
       "      <td>f3a6c1e4-fd78-4675-82a1-5dfd68c1e1ab</td>\n",
       "      <td>841888398</td>\n",
       "      <td>June 7, 2022</td>\n",
       "      <td>La pizza Nostra</td>\n",
       "      <td>Our first time in Albania, John and his team w...</td>\n",
       "      <td>50</td>\n",
       "      <td></td>\n",
       "    </tr>\n",
       "    <tr>\n",
       "      <th>220</th>\n",
       "      <td>UID_7AAA8B789D3FCE0C0CE4D94B8617833C-SRC_84071...</td>\n",
       "      <td>f3a6c1e4-fd78-4675-82a1-5dfd68c1e1ab</td>\n",
       "      <td>840711157</td>\n",
       "      <td>May 30, 2022</td>\n",
       "      <td>One of the best pizzas you’ll ever eat</td>\n",
       "      <td>The quality of the pizza…It was nothing short ...</td>\n",
       "      <td>50</td>\n",
       "      <td></td>\n",
       "    </tr>\n",
       "    <tr>\n",
       "      <th>221</th>\n",
       "      <td>UID_D0BE0FBC7BC03C9E0E03DC1DDA88D16C-SRC_83571...</td>\n",
       "      <td>f3a6c1e4-fd78-4675-82a1-5dfd68c1e1ab</td>\n",
       "      <td>835712730</td>\n",
       "      <td>April 23, 2022</td>\n",
       "      <td>Simply the Best Pizza in Tirana!!</td>\n",
       "      <td>First, La Pizza Nostra Restaurant is very clea...</td>\n",
       "      <td>50</td>\n",
       "      <td></td>\n",
       "    </tr>\n",
       "    <tr>\n",
       "      <th>222</th>\n",
       "      <td>UID_B1CC77610B15AD8AA861D3AF815D8F1A-SRC_83465...</td>\n",
       "      <td>f3a6c1e4-fd78-4675-82a1-5dfd68c1e1ab</td>\n",
       "      <td>834651099</td>\n",
       "      <td>April 15, 2022</td>\n",
       "      <td>Very nice restaurant. The service was great.</td>\n",
       "      <td>Very tasty pizza. This is one of the best pizz...</td>\n",
       "      <td>50</td>\n",
       "      <td></td>\n",
       "    </tr>\n",
       "    <tr>\n",
       "      <th>223</th>\n",
       "      <td>UID_7A0487278527BC71B4B9DDDB1D963802-SRC_83385...</td>\n",
       "      <td>f3a6c1e4-fd78-4675-82a1-5dfd68c1e1ab</td>\n",
       "      <td>833851385</td>\n",
       "      <td>April 8, 2022</td>\n",
       "      <td>Best Pizza in Tirana</td>\n",
       "      <td>This is literally the best Pizzeria in Tirana....</td>\n",
       "      <td>50</td>\n",
       "      <td>1</td>\n",
       "    </tr>\n",
       "  </tbody>\n",
       "</table>\n",
       "</div>"
      ],
      "text/plain": [
       "                                               user_id  \\\n",
       "215  UID_F1FBBF099CB5E257C5FFBFB2EFA69112-SRC_86958...   \n",
       "216  UID_9F59B845FA08C2835A51FB99F2174815-SRC_84672...   \n",
       "217  UID_300C91DAF0132F4BD631CB38AFED6A1A-SRC_84392...   \n",
       "218  UID_EAE1D79426F499C5098C91A21F8DAB9B-SRC_84188...   \n",
       "219  UID_8AF59B67BF1FC0017CDD1D76EDE70DDC-SRC_84188...   \n",
       "220  UID_7AAA8B789D3FCE0C0CE4D94B8617833C-SRC_84071...   \n",
       "221  UID_D0BE0FBC7BC03C9E0E03DC1DDA88D16C-SRC_83571...   \n",
       "222  UID_B1CC77610B15AD8AA861D3AF815D8F1A-SRC_83465...   \n",
       "223  UID_7A0487278527BC71B4B9DDDB1D963802-SRC_83385...   \n",
       "\n",
       "                              business_id  review_id        review_date  \\\n",
       "215  f3a6c1e4-fd78-4675-82a1-5dfd68c1e1ab  869583586  November 24, 2022   \n",
       "216  f3a6c1e4-fd78-4675-82a1-5dfd68c1e1ab  846724478       July 7, 2022   \n",
       "217  f3a6c1e4-fd78-4675-82a1-5dfd68c1e1ab  843928628      June 21, 2022   \n",
       "218  f3a6c1e4-fd78-4675-82a1-5dfd68c1e1ab  841889382       June 7, 2022   \n",
       "219  f3a6c1e4-fd78-4675-82a1-5dfd68c1e1ab  841888398       June 7, 2022   \n",
       "220  f3a6c1e4-fd78-4675-82a1-5dfd68c1e1ab  840711157       May 30, 2022   \n",
       "221  f3a6c1e4-fd78-4675-82a1-5dfd68c1e1ab  835712730     April 23, 2022   \n",
       "222  f3a6c1e4-fd78-4675-82a1-5dfd68c1e1ab  834651099     April 15, 2022   \n",
       "223  f3a6c1e4-fd78-4675-82a1-5dfd68c1e1ab  833851385      April 8, 2022   \n",
       "\n",
       "                                     review_title  \\\n",
       "215                               It’s wonderful!   \n",
       "216                            Recommend strong!!   \n",
       "217            A great place to share with family   \n",
       "218                          Best pizza in Tirana   \n",
       "219                               La pizza Nostra   \n",
       "220        One of the best pizzas you’ll ever eat   \n",
       "221             Simply the Best Pizza in Tirana!!   \n",
       "222  Very nice restaurant. The service was great.   \n",
       "223                          Best Pizza in Tirana   \n",
       "\n",
       "                                           review_text rating votes  \n",
       "215  This place is probably the best pizza place in...     50        \n",
       "216  The food was really good and with normal price...     50        \n",
       "217  The manager and the personal speak albanian, I...     50        \n",
       "218  John and his team were the most welcoming… we ...     50        \n",
       "219  Our first time in Albania, John and his team w...     50        \n",
       "220  The quality of the pizza…It was nothing short ...     50        \n",
       "221  First, La Pizza Nostra Restaurant is very clea...     50        \n",
       "222  Very tasty pizza. This is one of the best pizz...     50        \n",
       "223  This is literally the best Pizzeria in Tirana....     50   1    "
      ]
     },
     "execution_count": 8,
     "metadata": {},
     "output_type": "execute_result"
    }
   ],
   "source": [
    "df_reviews[df_reviews['business_id'] == df_unstructured['business_id'][0]]"
   ]
  },
  {
   "cell_type": "code",
   "execution_count": 9,
   "id": "b50fe323",
   "metadata": {},
   "outputs": [
    {
     "data": {
      "text/plain": [
       "'La Pizza Nostra'"
      ]
     },
     "execution_count": 9,
     "metadata": {},
     "output_type": "execute_result"
    }
   ],
   "source": [
    "df_unstructured['business_name'][0]"
   ]
  },
  {
   "cell_type": "markdown",
   "id": "af3961b8",
   "metadata": {},
   "source": [
    "#### Cleaning Unstructured DataFrame"
   ]
  },
  {
   "cell_type": "code",
   "execution_count": 10,
   "id": "fa0b5064",
   "metadata": {},
   "outputs": [
    {
     "name": "stdout",
     "output_type": "stream",
     "text": [
      "<class 'pandas.core.frame.DataFrame'>\n",
      "RangeIndex: 1632 entries, 0 to 1631\n",
      "Data columns (total 14 columns):\n",
      " #   Column         Non-Null Count  Dtype \n",
      "---  ------         --------------  ----- \n",
      " 0   business_id    1632 non-null   object\n",
      " 1   business_name  1627 non-null   object\n",
      " 2   categories     1632 non-null   object\n",
      " 3   city           1632 non-null   object\n",
      " 4   full_address   1627 non-null   object\n",
      " 5   display_phone  1425 non-null   object\n",
      " 6   review_count   1632 non-null   object\n",
      " 7   stars          1632 non-null   object\n",
      " 8   price_tag      1632 non-null   object\n",
      " 9   is_claimed     1632 non-null   bool  \n",
      " 10  is_closed      1632 non-null   bool  \n",
      " 11  coordinates    1632 non-null   object\n",
      " 12  image          1369 non-null   object\n",
      " 13  url            1632 non-null   object\n",
      "dtypes: bool(2), object(12)\n",
      "memory usage: 156.3+ KB\n"
     ]
    }
   ],
   "source": [
    "df_unstructured.info()"
   ]
  },
  {
   "cell_type": "markdown",
   "id": "5eac1c71",
   "metadata": {},
   "source": [
    "Review Count seems to be an object type and might contain number such as 1,666 as string so we need to convert it to float."
   ]
  },
  {
   "cell_type": "code",
   "execution_count": 11,
   "id": "856f719f",
   "metadata": {},
   "outputs": [],
   "source": [
    "def replace_comma(x):\n",
    "    if x == None:\n",
    "        return 0.0\n",
    "    elif ',' in x:\n",
    "        return float(x.replace(',', ''))\n",
    "    else:\n",
    "        return float(x)\n",
    "    \n",
    "df_unstructured['review_count'] = df_unstructured['review_count'].apply(lambda x: replace_comma(x))"
   ]
  },
  {
   "cell_type": "code",
   "execution_count": 12,
   "id": "07ab3db9",
   "metadata": {},
   "outputs": [],
   "source": [
    "# Convert stars to float\n",
    "df_unstructured['stars'] = df_unstructured['stars'].apply(lambda x: float(x))"
   ]
  },
  {
   "cell_type": "markdown",
   "id": "815f6eca",
   "metadata": {},
   "source": [
    "Price tag seems to be an object with $ elements and if no element then 'No price tag'. We need to arrange it to a set of numbers."
   ]
  },
  {
   "cell_type": "code",
   "execution_count": 13,
   "id": "2f3e6841",
   "metadata": {},
   "outputs": [
    {
     "data": {
      "text/plain": [
       "No price tag    703\n",
       "$$ - $$$        501\n",
       "$               366\n",
       "$$$$             62\n",
       "Name: price_tag, dtype: int64"
      ]
     },
     "execution_count": 13,
     "metadata": {},
     "output_type": "execute_result"
    }
   ],
   "source": [
    "df_unstructured['price_tag'].value_counts()"
   ]
  },
  {
   "cell_type": "code",
   "execution_count": 14,
   "id": "4cc18bc5",
   "metadata": {},
   "outputs": [],
   "source": [
    "def process_price_tag(x):\n",
    "    if x is None or x == '$' or x == 'No price tag':\n",
    "        return 1.0\n",
    "    elif x == '$$ - $$$':\n",
    "        return 2.5\n",
    "    elif x == '$$$$':\n",
    "        return 4\n",
    "    \n",
    "df_unstructured['price_tag'] = df_unstructured['price_tag'].apply(lambda x: process_price_tag(x))"
   ]
  },
  {
   "cell_type": "markdown",
   "id": "c0d975de",
   "metadata": {},
   "source": [
    "Coordinates looks to be in a list with latitude and longitude. We need to normalize it into two columns."
   ]
  },
  {
   "cell_type": "code",
   "execution_count": 15,
   "id": "ed184574",
   "metadata": {},
   "outputs": [],
   "source": [
    "df_unstructured['latitude'] = df_unstructured['coordinates'].apply(lambda x: x[0])\n",
    "df_unstructured['longitude'] = df_unstructured['coordinates'].apply(lambda x: x[1])"
   ]
  },
  {
   "cell_type": "code",
   "execution_count": 16,
   "id": "eefc3ec3",
   "metadata": {},
   "outputs": [],
   "source": [
    "df_unstructured.drop('coordinates', axis=1, inplace=True)"
   ]
  },
  {
   "cell_type": "code",
   "execution_count": 17,
   "id": "ddd78cc3",
   "metadata": {},
   "outputs": [
    {
     "data": {
      "text/plain": [
       "business_id        0\n",
       "business_name      5\n",
       "categories         0\n",
       "city               0\n",
       "full_address       5\n",
       "display_phone    207\n",
       "review_count       0\n",
       "stars              0\n",
       "price_tag          0\n",
       "is_claimed         0\n",
       "is_closed          0\n",
       "image            263\n",
       "url                0\n",
       "latitude           0\n",
       "longitude          0\n",
       "dtype: int64"
      ]
     },
     "execution_count": 17,
     "metadata": {},
     "output_type": "execute_result"
    }
   ],
   "source": [
    "df_unstructured.isnull().sum()"
   ]
  },
  {
   "cell_type": "code",
   "execution_count": 18,
   "id": "01538f13",
   "metadata": {},
   "outputs": [],
   "source": [
    "def check_null(df):\n",
    "    percent_missing = df.isnull().sum() * 100 / len(df)\n",
    "    missing_value_df = pd.DataFrame({'column_name': df.columns,\n",
    "                                     'percent_missing': percent_missing})\n",
    "    missing_value_df.sort_values('percent_missing', inplace=True)\n",
    "    return missing_value_df"
   ]
  },
  {
   "cell_type": "code",
   "execution_count": 19,
   "id": "29242550",
   "metadata": {},
   "outputs": [
    {
     "data": {
      "text/html": [
       "<div>\n",
       "<style scoped>\n",
       "    .dataframe tbody tr th:only-of-type {\n",
       "        vertical-align: middle;\n",
       "    }\n",
       "\n",
       "    .dataframe tbody tr th {\n",
       "        vertical-align: top;\n",
       "    }\n",
       "\n",
       "    .dataframe thead th {\n",
       "        text-align: right;\n",
       "    }\n",
       "</style>\n",
       "<table border=\"1\" class=\"dataframe\">\n",
       "  <thead>\n",
       "    <tr style=\"text-align: right;\">\n",
       "      <th></th>\n",
       "      <th>column_name</th>\n",
       "      <th>percent_missing</th>\n",
       "    </tr>\n",
       "  </thead>\n",
       "  <tbody>\n",
       "    <tr>\n",
       "      <th>business_id</th>\n",
       "      <td>business_id</td>\n",
       "      <td>0.000000</td>\n",
       "    </tr>\n",
       "    <tr>\n",
       "      <th>categories</th>\n",
       "      <td>categories</td>\n",
       "      <td>0.000000</td>\n",
       "    </tr>\n",
       "    <tr>\n",
       "      <th>city</th>\n",
       "      <td>city</td>\n",
       "      <td>0.000000</td>\n",
       "    </tr>\n",
       "    <tr>\n",
       "      <th>review_count</th>\n",
       "      <td>review_count</td>\n",
       "      <td>0.000000</td>\n",
       "    </tr>\n",
       "    <tr>\n",
       "      <th>stars</th>\n",
       "      <td>stars</td>\n",
       "      <td>0.000000</td>\n",
       "    </tr>\n",
       "    <tr>\n",
       "      <th>price_tag</th>\n",
       "      <td>price_tag</td>\n",
       "      <td>0.000000</td>\n",
       "    </tr>\n",
       "    <tr>\n",
       "      <th>is_claimed</th>\n",
       "      <td>is_claimed</td>\n",
       "      <td>0.000000</td>\n",
       "    </tr>\n",
       "    <tr>\n",
       "      <th>is_closed</th>\n",
       "      <td>is_closed</td>\n",
       "      <td>0.000000</td>\n",
       "    </tr>\n",
       "    <tr>\n",
       "      <th>url</th>\n",
       "      <td>url</td>\n",
       "      <td>0.000000</td>\n",
       "    </tr>\n",
       "    <tr>\n",
       "      <th>latitude</th>\n",
       "      <td>latitude</td>\n",
       "      <td>0.000000</td>\n",
       "    </tr>\n",
       "    <tr>\n",
       "      <th>longitude</th>\n",
       "      <td>longitude</td>\n",
       "      <td>0.000000</td>\n",
       "    </tr>\n",
       "    <tr>\n",
       "      <th>business_name</th>\n",
       "      <td>business_name</td>\n",
       "      <td>0.306373</td>\n",
       "    </tr>\n",
       "    <tr>\n",
       "      <th>full_address</th>\n",
       "      <td>full_address</td>\n",
       "      <td>0.306373</td>\n",
       "    </tr>\n",
       "    <tr>\n",
       "      <th>display_phone</th>\n",
       "      <td>display_phone</td>\n",
       "      <td>12.683824</td>\n",
       "    </tr>\n",
       "    <tr>\n",
       "      <th>image</th>\n",
       "      <td>image</td>\n",
       "      <td>16.115196</td>\n",
       "    </tr>\n",
       "  </tbody>\n",
       "</table>\n",
       "</div>"
      ],
      "text/plain": [
       "                 column_name  percent_missing\n",
       "business_id      business_id         0.000000\n",
       "categories        categories         0.000000\n",
       "city                    city         0.000000\n",
       "review_count    review_count         0.000000\n",
       "stars                  stars         0.000000\n",
       "price_tag          price_tag         0.000000\n",
       "is_claimed        is_claimed         0.000000\n",
       "is_closed          is_closed         0.000000\n",
       "url                      url         0.000000\n",
       "latitude            latitude         0.000000\n",
       "longitude          longitude         0.000000\n",
       "business_name  business_name         0.306373\n",
       "full_address    full_address         0.306373\n",
       "display_phone  display_phone        12.683824\n",
       "image                  image        16.115196"
      ]
     },
     "execution_count": 19,
     "metadata": {},
     "output_type": "execute_result"
    }
   ],
   "source": [
    "check_null(df_unstructured)"
   ]
  },
  {
   "cell_type": "markdown",
   "id": "5c92a10b",
   "metadata": {},
   "source": [
    "We can see that the columns that are missing mostly are image and display phone. However, we don't need to drop these values since image and display phone are not important columns.\n",
    "\n",
    "Moreover, we see a small portion of businesses that are missing the name and full_address. We will drop these values"
   ]
  },
  {
   "cell_type": "code",
   "execution_count": 20,
   "id": "d04c0a89",
   "metadata": {},
   "outputs": [],
   "source": [
    "df_unstructured.dropna(subset=['business_name', 'full_address'], inplace=True)"
   ]
  },
  {
   "cell_type": "code",
   "execution_count": 21,
   "id": "0bf50ba6",
   "metadata": {},
   "outputs": [
    {
     "name": "stdout",
     "output_type": "stream",
     "text": [
      "<class 'pandas.core.frame.DataFrame'>\n",
      "Int64Index: 1627 entries, 0 to 1631\n",
      "Data columns (total 15 columns):\n",
      " #   Column         Non-Null Count  Dtype  \n",
      "---  ------         --------------  -----  \n",
      " 0   business_id    1627 non-null   object \n",
      " 1   business_name  1627 non-null   object \n",
      " 2   categories     1627 non-null   object \n",
      " 3   city           1627 non-null   object \n",
      " 4   full_address   1627 non-null   object \n",
      " 5   display_phone  1425 non-null   object \n",
      " 6   review_count   1627 non-null   float64\n",
      " 7   stars          1627 non-null   float64\n",
      " 8   price_tag      1627 non-null   float64\n",
      " 9   is_claimed     1627 non-null   bool   \n",
      " 10  is_closed      1627 non-null   bool   \n",
      " 11  image          1365 non-null   object \n",
      " 12  url            1627 non-null   object \n",
      " 13  latitude       1627 non-null   float64\n",
      " 14  longitude      1627 non-null   float64\n",
      "dtypes: bool(2), float64(5), object(8)\n",
      "memory usage: 181.1+ KB\n"
     ]
    }
   ],
   "source": [
    "df_unstructured.info()"
   ]
  },
  {
   "cell_type": "code",
   "execution_count": 22,
   "id": "904d8f9e",
   "metadata": {},
   "outputs": [],
   "source": [
    "df_cleaned = df_unstructured"
   ]
  },
  {
   "cell_type": "markdown",
   "id": "388b0f0f",
   "metadata": {},
   "source": [
    "#### Cleaning Reviews DataFrame"
   ]
  },
  {
   "cell_type": "code",
   "execution_count": 23,
   "id": "9e36f9bc",
   "metadata": {},
   "outputs": [
    {
     "name": "stdout",
     "output_type": "stream",
     "text": [
      "<class 'pandas.core.frame.DataFrame'>\n",
      "RangeIndex: 8403 entries, 0 to 8402\n",
      "Data columns (total 8 columns):\n",
      " #   Column        Non-Null Count  Dtype \n",
      "---  ------        --------------  ----- \n",
      " 0   user_id       8401 non-null   object\n",
      " 1   business_id   8403 non-null   object\n",
      " 2   review_id     8403 non-null   object\n",
      " 3   review_date   8403 non-null   object\n",
      " 4   review_title  8403 non-null   object\n",
      " 5   review_text   8403 non-null   object\n",
      " 6   rating        8403 non-null   object\n",
      " 7   votes         8403 non-null   object\n",
      "dtypes: object(8)\n",
      "memory usage: 525.3+ KB\n"
     ]
    }
   ],
   "source": [
    "df_reviews.info()"
   ]
  },
  {
   "cell_type": "code",
   "execution_count": 24,
   "id": "c307c73e",
   "metadata": {},
   "outputs": [],
   "source": [
    "# first of let us turn review date into a datetime64[ns] object\n",
    "df_reviews['review_date'] = pd.to_datetime(df_reviews['review_date'])"
   ]
  },
  {
   "cell_type": "code",
   "execution_count": 25,
   "id": "63ae1472",
   "metadata": {},
   "outputs": [
    {
     "data": {
      "text/html": [
       "<div>\n",
       "<style scoped>\n",
       "    .dataframe tbody tr th:only-of-type {\n",
       "        vertical-align: middle;\n",
       "    }\n",
       "\n",
       "    .dataframe tbody tr th {\n",
       "        vertical-align: top;\n",
       "    }\n",
       "\n",
       "    .dataframe thead th {\n",
       "        text-align: right;\n",
       "    }\n",
       "</style>\n",
       "<table border=\"1\" class=\"dataframe\">\n",
       "  <thead>\n",
       "    <tr style=\"text-align: right;\">\n",
       "      <th></th>\n",
       "      <th>column_name</th>\n",
       "      <th>percent_missing</th>\n",
       "    </tr>\n",
       "  </thead>\n",
       "  <tbody>\n",
       "    <tr>\n",
       "      <th>business_id</th>\n",
       "      <td>business_id</td>\n",
       "      <td>0.000000</td>\n",
       "    </tr>\n",
       "    <tr>\n",
       "      <th>review_id</th>\n",
       "      <td>review_id</td>\n",
       "      <td>0.000000</td>\n",
       "    </tr>\n",
       "    <tr>\n",
       "      <th>review_date</th>\n",
       "      <td>review_date</td>\n",
       "      <td>0.000000</td>\n",
       "    </tr>\n",
       "    <tr>\n",
       "      <th>review_title</th>\n",
       "      <td>review_title</td>\n",
       "      <td>0.000000</td>\n",
       "    </tr>\n",
       "    <tr>\n",
       "      <th>review_text</th>\n",
       "      <td>review_text</td>\n",
       "      <td>0.000000</td>\n",
       "    </tr>\n",
       "    <tr>\n",
       "      <th>rating</th>\n",
       "      <td>rating</td>\n",
       "      <td>0.000000</td>\n",
       "    </tr>\n",
       "    <tr>\n",
       "      <th>votes</th>\n",
       "      <td>votes</td>\n",
       "      <td>0.000000</td>\n",
       "    </tr>\n",
       "    <tr>\n",
       "      <th>user_id</th>\n",
       "      <td>user_id</td>\n",
       "      <td>0.023801</td>\n",
       "    </tr>\n",
       "  </tbody>\n",
       "</table>\n",
       "</div>"
      ],
      "text/plain": [
       "               column_name  percent_missing\n",
       "business_id    business_id         0.000000\n",
       "review_id        review_id         0.000000\n",
       "review_date    review_date         0.000000\n",
       "review_title  review_title         0.000000\n",
       "review_text    review_text         0.000000\n",
       "rating              rating         0.000000\n",
       "votes                votes         0.000000\n",
       "user_id            user_id         0.023801"
      ]
     },
     "execution_count": 25,
     "metadata": {},
     "output_type": "execute_result"
    }
   ],
   "source": [
    "# Let's check for null values\n",
    "check_null(df_reviews)"
   ]
  },
  {
   "cell_type": "markdown",
   "id": "8e9a53ee",
   "metadata": {},
   "source": [
    "We can see that there is only a really smart portion of nulls in user_id; but we do not need to drop them"
   ]
  },
  {
   "cell_type": "markdown",
   "id": "ea1097dd",
   "metadata": {},
   "source": [
    "Let strip review text and title"
   ]
  },
  {
   "cell_type": "code",
   "execution_count": 26,
   "id": "2dc75f2a",
   "metadata": {},
   "outputs": [],
   "source": [
    "df_reviews['review_text'] = df_reviews['review_text'].apply(lambda x: x.strip())\n",
    "df_reviews['review_title'] = df_reviews['review_title'].apply(lambda x: x.strip())\n",
    "df_reviews['votes'] = df_reviews['votes'].apply(lambda x: x.strip())"
   ]
  },
  {
   "cell_type": "markdown",
   "id": "bebccfbc",
   "metadata": {},
   "source": [
    "We also need to normalize ratings from 1-5"
   ]
  },
  {
   "cell_type": "code",
   "execution_count": 27,
   "id": "96a8ad10",
   "metadata": {},
   "outputs": [],
   "source": [
    "df_reviews['rating'] = df_reviews['rating'].apply(lambda x: float(x))\n",
    "df_reviews['rating'] = df_reviews['rating']/10"
   ]
  },
  {
   "cell_type": "markdown",
   "id": "9ac159d9",
   "metadata": {},
   "source": [
    "Let's turn empty votes string to 0"
   ]
  },
  {
   "cell_type": "code",
   "execution_count": 28,
   "id": "309f5911",
   "metadata": {},
   "outputs": [
    {
     "data": {
      "text/plain": [
       "      6073\n",
       "1     1495\n",
       "2      501\n",
       "3      140\n",
       "0      113\n",
       "4       50\n",
       "5       17\n",
       "6        4\n",
       "20       2\n",
       "12       2\n",
       "7        2\n",
       "11       1\n",
       "16       1\n",
       "10       1\n",
       "15       1\n",
       "Name: votes, dtype: int64"
      ]
     },
     "execution_count": 28,
     "metadata": {},
     "output_type": "execute_result"
    }
   ],
   "source": [
    "df_reviews['votes'].value_counts()"
   ]
  },
  {
   "cell_type": "code",
   "execution_count": 29,
   "id": "85d6fa62",
   "metadata": {},
   "outputs": [],
   "source": [
    "def process_votes(x):\n",
    "    if not x:\n",
    "        return 0.0\n",
    "    else:\n",
    "        return float(x)\n",
    "    \n",
    "df_reviews['votes'] = df_reviews['votes'].apply(lambda x: process_votes(x))"
   ]
  },
  {
   "cell_type": "code",
   "execution_count": 30,
   "id": "c1c61a21",
   "metadata": {},
   "outputs": [
    {
     "data": {
      "text/plain": [
       "0.0     6186\n",
       "1.0     1495\n",
       "2.0      501\n",
       "3.0      140\n",
       "4.0       50\n",
       "5.0       17\n",
       "6.0        4\n",
       "20.0       2\n",
       "12.0       2\n",
       "7.0        2\n",
       "11.0       1\n",
       "16.0       1\n",
       "10.0       1\n",
       "15.0       1\n",
       "Name: votes, dtype: int64"
      ]
     },
     "execution_count": 30,
     "metadata": {},
     "output_type": "execute_result"
    }
   ],
   "source": [
    "df_reviews['votes'].value_counts()"
   ]
  },
  {
   "cell_type": "code",
   "execution_count": 31,
   "id": "20d56269",
   "metadata": {},
   "outputs": [],
   "source": [
    "df_reviews['review_title'] = df_reviews['review_title'].apply(lambda x:'No title' if x == '' else x)\n",
    "df_reviews['review_text'] = df_reviews['review_text'].apply(lambda x:'No text' if x == '' or x == 'More' else x)"
   ]
  },
  {
   "cell_type": "code",
   "execution_count": 32,
   "id": "28ff2546",
   "metadata": {},
   "outputs": [
    {
     "name": "stdout",
     "output_type": "stream",
     "text": [
      "<class 'pandas.core.frame.DataFrame'>\n",
      "RangeIndex: 8403 entries, 0 to 8402\n",
      "Data columns (total 8 columns):\n",
      " #   Column        Non-Null Count  Dtype         \n",
      "---  ------        --------------  -----         \n",
      " 0   user_id       8401 non-null   object        \n",
      " 1   business_id   8403 non-null   object        \n",
      " 2   review_id     8403 non-null   object        \n",
      " 3   review_date   8403 non-null   datetime64[ns]\n",
      " 4   review_title  8403 non-null   object        \n",
      " 5   review_text   8403 non-null   object        \n",
      " 6   rating        8403 non-null   float64       \n",
      " 7   votes         8403 non-null   float64       \n",
      "dtypes: datetime64[ns](1), float64(2), object(5)\n",
      "memory usage: 525.3+ KB\n"
     ]
    }
   ],
   "source": [
    "df_reviews.info()"
   ]
  },
  {
   "cell_type": "markdown",
   "id": "8d3bba11",
   "metadata": {},
   "source": [
    "#### Saving cleaned data\n",
    "\n",
    "Saving data info and data reviews to \n",
    "```\n",
    "datasets\\unprocessed_clean\n",
    "```"
   ]
  },
  {
   "cell_type": "code",
   "execution_count": 33,
   "id": "a328344f",
   "metadata": {},
   "outputs": [
    {
     "data": {
      "text/plain": [
       "[European, Albanian]                               168\n",
       "[]                                                 142\n",
       "[Italian, European, Albanian]                       52\n",
       "[Italian, Seafood, Mediterranean]                   44\n",
       "[Italian]                                           42\n",
       "                                                  ... \n",
       "[Italian, French, European, Turkish]                 1\n",
       "[Italian, French, International, Mediterranean]      1\n",
       "[Pizza, European, Grill]                             1\n",
       "[Fast Food, Middle Eastern]                          1\n",
       "[Seafood, Mediterranean, European, Pub]              1\n",
       "Name: categories, Length: 575, dtype: int64"
      ]
     },
     "execution_count": 33,
     "metadata": {},
     "output_type": "execute_result"
    }
   ],
   "source": [
    "df_cleaned['categories'].value_counts()"
   ]
  },
  {
   "cell_type": "code",
   "execution_count": 36,
   "id": "260068ae",
   "metadata": {},
   "outputs": [],
   "source": [
    "def save(path):\n",
    "    os.makedirs(path, exist_ok=True)\n",
    "    df_cleaned.to_pickle(f\"{path}/businesses_data_cleaned.pkl\")\n",
    "    df_reviews.to_pickle(f\"{path}/businesses_reviews_cleaned.pkl\")\n",
    "    \n",
    "save('../datasets/unprocessed_clean')"
   ]
  },
  {
   "cell_type": "code",
   "execution_count": null,
   "id": "c828545e",
   "metadata": {},
   "outputs": [],
   "source": []
  }
 ],
 "metadata": {
  "kernelspec": {
   "display_name": "Python 3 (ipykernel)",
   "language": "python",
   "name": "python3"
  },
  "language_info": {
   "codemirror_mode": {
    "name": "ipython",
    "version": 3
   },
   "file_extension": ".py",
   "mimetype": "text/x-python",
   "name": "python",
   "nbconvert_exporter": "python",
   "pygments_lexer": "ipython3",
   "version": "3.11.2"
  }
 },
 "nbformat": 4,
 "nbformat_minor": 5
}
