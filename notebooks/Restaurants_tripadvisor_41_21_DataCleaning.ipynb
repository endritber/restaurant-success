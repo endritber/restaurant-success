{
 "cells": [
  {
   "cell_type": "code",
   "execution_count": 1,
   "id": "3b6cf6a1",
   "metadata": {},
   "outputs": [],
   "source": [
    "import pickle\n",
    "import os\n",
    "\n",
    "import pandas as pd"
   ]
  },
  {
   "cell_type": "markdown",
   "id": "640abbe3",
   "metadata": {},
   "source": [
    "#### Loading Businesses and Reviews\n",
    "\n",
    "Loading businesses and reviews for Kosovo, Tirana, Sarande, Vlore, Lezhe, Shengjin Counties."
   ]
  },
  {
   "cell_type": "code",
   "execution_count": 2,
   "id": "2b98fe2a",
   "metadata": {},
   "outputs": [],
   "source": [
    "def load_data(path):\n",
    "    df_unstructured = pd.DataFrame()\n",
    "    df_reviews = pd.DataFrame()\n",
    "    for filename in os.listdir(path):\n",
    "        if not filename.split('.')[-1] == 'pickle':\n",
    "            continue\n",
    "        if filename.split('.')[0].split('_')[-1] == 'data':\n",
    "            data = pd.DataFrame(pickle.load(open(f\"{path}/{filename}\", 'rb')))\n",
    "            df_unstructured = pd.concat([df_unstructured, data])\n",
    "        else:\n",
    "            data = pd.DataFrame(pickle.load(open(f\"{path}/{filename}\", 'rb')))\n",
    "            df_reviews = pd.concat([df_reviews, data])\n",
    "    return df_unstructured.reset_index(drop=True), df_reviews.reset_index(drop=True)"
   ]
  },
  {
   "cell_type": "code",
   "execution_count": 3,
   "id": "747da738",
   "metadata": {
    "scrolled": true
   },
   "outputs": [],
   "source": [
    "df_unstructured, df_reviews = load_data('../datasets')"
   ]
  },
  {
   "cell_type": "code",
   "execution_count": 4,
   "id": "a6d67464",
   "metadata": {},
   "outputs": [
    {
     "data": {
      "text/html": [
       "<div>\n",
       "<style scoped>\n",
       "    .dataframe tbody tr th:only-of-type {\n",
       "        vertical-align: middle;\n",
       "    }\n",
       "\n",
       "    .dataframe tbody tr th {\n",
       "        vertical-align: top;\n",
       "    }\n",
       "\n",
       "    .dataframe thead th {\n",
       "        text-align: right;\n",
       "    }\n",
       "</style>\n",
       "<table border=\"1\" class=\"dataframe\">\n",
       "  <thead>\n",
       "    <tr style=\"text-align: right;\">\n",
       "      <th></th>\n",
       "      <th>business_id</th>\n",
       "      <th>business_name</th>\n",
       "      <th>categories</th>\n",
       "      <th>city</th>\n",
       "      <th>full_address</th>\n",
       "      <th>display_phone</th>\n",
       "      <th>review_count</th>\n",
       "      <th>stars</th>\n",
       "      <th>price_tag</th>\n",
       "      <th>is_claimed</th>\n",
       "      <th>is_closed</th>\n",
       "      <th>coordinates</th>\n",
       "      <th>image</th>\n",
       "      <th>url</th>\n",
       "    </tr>\n",
       "  </thead>\n",
       "  <tbody>\n",
       "    <tr>\n",
       "      <th>0</th>\n",
       "      <td>5292a3ee-c57b-4c55-b882-1eebbafbb69c</td>\n",
       "      <td>Taverna Fevan</td>\n",
       "      <td>[Mediterranean, European, Albanian]</td>\n",
       "      <td>Vlore County</td>\n",
       "      <td>Palase, Dhermi Albania</td>\n",
       "      <td>+355 68 330 0908</td>\n",
       "      <td>134</td>\n",
       "      <td>4.0</td>\n",
       "      <td>$$ - $$$</td>\n",
       "      <td>True</td>\n",
       "      <td>False</td>\n",
       "      <td>[40.160217, 19.628233]</td>\n",
       "      <td>data:image/gif;base64,R0lGODlhAQABAAAAACH5BAEK...</td>\n",
       "      <td>https://www.tripadvisor.com/Restaurant_Review-...</td>\n",
       "    </tr>\n",
       "    <tr>\n",
       "      <th>1</th>\n",
       "      <td>777dcd53-bef2-45f0-a4f3-aade07195536</td>\n",
       "      <td>Taverna Hibraj</td>\n",
       "      <td>[Barbecue, European, Albanian]</td>\n",
       "      <td>Vlore County</td>\n",
       "      <td>SH8, Llogara, Llogara National Park Albania</td>\n",
       "      <td>+355 69 616 1807</td>\n",
       "      <td>22</td>\n",
       "      <td>4.5</td>\n",
       "      <td>$</td>\n",
       "      <td>True</td>\n",
       "      <td>False</td>\n",
       "      <td>[40.20997, 19.579586]</td>\n",
       "      <td>data:image/gif;base64,R0lGODlhAQABAAAAACH5BAEK...</td>\n",
       "      <td>https://www.tripadvisor.com/Restaurant_Review-...</td>\n",
       "    </tr>\n",
       "    <tr>\n",
       "      <th>2</th>\n",
       "      <td>7dadd1a8-f799-459b-bad1-dba165669780</td>\n",
       "      <td>Calme Palase</td>\n",
       "      <td>[Bar, Cafe, European, Pub]</td>\n",
       "      <td>Vlore County</td>\n",
       "      <td>Rruga E Plazhit Te Palases, Palase Albania</td>\n",
       "      <td>None</td>\n",
       "      <td>3</td>\n",
       "      <td>2.5</td>\n",
       "      <td>No price tag</td>\n",
       "      <td>False</td>\n",
       "      <td>False</td>\n",
       "      <td>[40.170204, 19.583406]</td>\n",
       "      <td>data:image/gif;base64,R0lGODlhAQABAAAAACH5BAEK...</td>\n",
       "      <td>https://www.tripadvisor.com/Restaurant_Review-...</td>\n",
       "    </tr>\n",
       "    <tr>\n",
       "      <th>3</th>\n",
       "      <td>a6c050df-cba9-41b3-a07e-01581c7977cd</td>\n",
       "      <td>Ambel</td>\n",
       "      <td>[Italian, Seafood]</td>\n",
       "      <td>Vlore County</td>\n",
       "      <td>Rruga Perivolo, Dhermi Albania</td>\n",
       "      <td>+355 69 209 9890</td>\n",
       "      <td>1</td>\n",
       "      <td>5.0</td>\n",
       "      <td>No price tag</td>\n",
       "      <td>False</td>\n",
       "      <td>False</td>\n",
       "      <td>[40.15139, 19.63889]</td>\n",
       "      <td>data:image/gif;base64,R0lGODlhAQABAAAAACH5BAEK...</td>\n",
       "      <td>https://www.tripadvisor.com/Restaurant_Review-...</td>\n",
       "    </tr>\n",
       "    <tr>\n",
       "      <th>4</th>\n",
       "      <td>c722445d-a16f-49cf-a6a6-b4fd15c58f29</td>\n",
       "      <td>Brother's Grill Fastfood</td>\n",
       "      <td>[Fast Food, European, Grill, Albanian]</td>\n",
       "      <td>Vlore County</td>\n",
       "      <td>Sh8, Himare 9425 Albania</td>\n",
       "      <td>+355 69 539 9818</td>\n",
       "      <td>56</td>\n",
       "      <td>5.0</td>\n",
       "      <td>No price tag</td>\n",
       "      <td>True</td>\n",
       "      <td>False</td>\n",
       "      <td>[40.101753, 19.74574]</td>\n",
       "      <td>data:image/gif;base64,R0lGODlhAQABAAAAACH5BAEK...</td>\n",
       "      <td>https://www.tripadvisor.com/Restaurant_Review-...</td>\n",
       "    </tr>\n",
       "  </tbody>\n",
       "</table>\n",
       "</div>"
      ],
      "text/plain": [
       "                            business_id             business_name  \\\n",
       "0  5292a3ee-c57b-4c55-b882-1eebbafbb69c             Taverna Fevan   \n",
       "1  777dcd53-bef2-45f0-a4f3-aade07195536            Taverna Hibraj   \n",
       "2  7dadd1a8-f799-459b-bad1-dba165669780              Calme Palase   \n",
       "3  a6c050df-cba9-41b3-a07e-01581c7977cd                     Ambel   \n",
       "4  c722445d-a16f-49cf-a6a6-b4fd15c58f29  Brother's Grill Fastfood   \n",
       "\n",
       "                               categories            city  \\\n",
       "0     [Mediterranean, European, Albanian]  Vlore County     \n",
       "1          [Barbecue, European, Albanian]  Vlore County     \n",
       "2              [Bar, Cafe, European, Pub]  Vlore County     \n",
       "3                      [Italian, Seafood]  Vlore County     \n",
       "4  [Fast Food, European, Grill, Albanian]  Vlore County     \n",
       "\n",
       "                                  full_address     display_phone review_count  \\\n",
       "0                       Palase, Dhermi Albania  +355 68 330 0908          134   \n",
       "1  SH8, Llogara, Llogara National Park Albania  +355 69 616 1807           22   \n",
       "2   Rruga E Plazhit Te Palases, Palase Albania              None            3   \n",
       "3               Rruga Perivolo, Dhermi Albania  +355 69 209 9890            1   \n",
       "4                     Sh8, Himare 9425 Albania  +355 69 539 9818           56   \n",
       "\n",
       "  stars     price_tag  is_claimed  is_closed             coordinates  \\\n",
       "0  4.0       $$ - $$$        True      False  [40.160217, 19.628233]   \n",
       "1  4.5              $        True      False   [40.20997, 19.579586]   \n",
       "2  2.5   No price tag       False      False  [40.170204, 19.583406]   \n",
       "3  5.0   No price tag       False      False    [40.15139, 19.63889]   \n",
       "4  5.0   No price tag        True      False   [40.101753, 19.74574]   \n",
       "\n",
       "                                               image  \\\n",
       "0  data:image/gif;base64,R0lGODlhAQABAAAAACH5BAEK...   \n",
       "1  data:image/gif;base64,R0lGODlhAQABAAAAACH5BAEK...   \n",
       "2  data:image/gif;base64,R0lGODlhAQABAAAAACH5BAEK...   \n",
       "3  data:image/gif;base64,R0lGODlhAQABAAAAACH5BAEK...   \n",
       "4  data:image/gif;base64,R0lGODlhAQABAAAAACH5BAEK...   \n",
       "\n",
       "                                                 url  \n",
       "0  https://www.tripadvisor.com/Restaurant_Review-...  \n",
       "1  https://www.tripadvisor.com/Restaurant_Review-...  \n",
       "2  https://www.tripadvisor.com/Restaurant_Review-...  \n",
       "3  https://www.tripadvisor.com/Restaurant_Review-...  \n",
       "4  https://www.tripadvisor.com/Restaurant_Review-...  "
      ]
     },
     "execution_count": 4,
     "metadata": {},
     "output_type": "execute_result"
    }
   ],
   "source": [
    "df_unstructured.head()"
   ]
  },
  {
   "cell_type": "code",
   "execution_count": 5,
   "id": "a474664f",
   "metadata": {},
   "outputs": [
    {
     "data": {
      "text/html": [
       "<div>\n",
       "<style scoped>\n",
       "    .dataframe tbody tr th:only-of-type {\n",
       "        vertical-align: middle;\n",
       "    }\n",
       "\n",
       "    .dataframe tbody tr th {\n",
       "        vertical-align: top;\n",
       "    }\n",
       "\n",
       "    .dataframe thead th {\n",
       "        text-align: right;\n",
       "    }\n",
       "</style>\n",
       "<table border=\"1\" class=\"dataframe\">\n",
       "  <thead>\n",
       "    <tr style=\"text-align: right;\">\n",
       "      <th></th>\n",
       "      <th>user_id</th>\n",
       "      <th>business_id</th>\n",
       "      <th>review_id</th>\n",
       "      <th>review_date</th>\n",
       "      <th>review_title</th>\n",
       "      <th>review_text</th>\n",
       "      <th>rating</th>\n",
       "      <th>votes</th>\n",
       "    </tr>\n",
       "  </thead>\n",
       "  <tbody>\n",
       "    <tr>\n",
       "      <th>0</th>\n",
       "      <td>UID_649D7F06246AE713EC03CC37D8E0F727-SRC_86857...</td>\n",
       "      <td>c65742e9-3028-4a4e-a17d-397810611bdc</td>\n",
       "      <td>868577404</td>\n",
       "      <td>November 15, 2022</td>\n",
       "      <td>Delicious food in a lovely setting</td>\n",
       "      <td>We’ve been here a few times. This was the best...</td>\n",
       "      <td>50</td>\n",
       "      <td></td>\n",
       "    </tr>\n",
       "    <tr>\n",
       "      <th>1</th>\n",
       "      <td>UID_5C8A05641E93AF599D3A0E5065AD9C8C-SRC_85498...</td>\n",
       "      <td>c65742e9-3028-4a4e-a17d-397810611bdc</td>\n",
       "      <td>854983901</td>\n",
       "      <td>August 18, 2022</td>\n",
       "      <td>Too bad</td>\n",
       "      <td>Dim lights and waiters in traditional costume ...</td>\n",
       "      <td>20</td>\n",
       "      <td></td>\n",
       "    </tr>\n",
       "    <tr>\n",
       "      <th>2</th>\n",
       "      <td>UID_28D535572F72A35D95F49E6A0A643807-SRC_80282...</td>\n",
       "      <td>c65742e9-3028-4a4e-a17d-397810611bdc</td>\n",
       "      <td>802820824</td>\n",
       "      <td>August 9, 2021</td>\n",
       "      <td>What a find...</td>\n",
       "      <td>Stopped off here on the way from Skopje to Ohr...</td>\n",
       "      <td>50</td>\n",
       "      <td></td>\n",
       "    </tr>\n",
       "    <tr>\n",
       "      <th>3</th>\n",
       "      <td>UID_45EDCADA9084DAB445B72166A63C556B-SRC_69536...</td>\n",
       "      <td>c65742e9-3028-4a4e-a17d-397810611bdc</td>\n",
       "      <td>695360093</td>\n",
       "      <td>August 4, 2019</td>\n",
       "      <td>Tasty!</td>\n",
       "      <td>We have meal there after visiting Monastery. T...</td>\n",
       "      <td>50</td>\n",
       "      <td></td>\n",
       "    </tr>\n",
       "    <tr>\n",
       "      <th>4</th>\n",
       "      <td>UID_37C2FB670F0B798CE66E1C24F7CDF308-SRC_69395...</td>\n",
       "      <td>c65742e9-3028-4a4e-a17d-397810611bdc</td>\n",
       "      <td>693953389</td>\n",
       "      <td>July 29, 2019</td>\n",
       "      <td>Perfect end to the Monastery visit</td>\n",
       "      <td>After the trip to the Monastery we stopped in ...</td>\n",
       "      <td>50</td>\n",
       "      <td></td>\n",
       "    </tr>\n",
       "  </tbody>\n",
       "</table>\n",
       "</div>"
      ],
      "text/plain": [
       "                                             user_id  \\\n",
       "0  UID_649D7F06246AE713EC03CC37D8E0F727-SRC_86857...   \n",
       "1  UID_5C8A05641E93AF599D3A0E5065AD9C8C-SRC_85498...   \n",
       "2  UID_28D535572F72A35D95F49E6A0A643807-SRC_80282...   \n",
       "3  UID_45EDCADA9084DAB445B72166A63C556B-SRC_69536...   \n",
       "4  UID_37C2FB670F0B798CE66E1C24F7CDF308-SRC_69395...   \n",
       "\n",
       "                            business_id  review_id        review_date  \\\n",
       "0  c65742e9-3028-4a4e-a17d-397810611bdc  868577404  November 15, 2022   \n",
       "1  c65742e9-3028-4a4e-a17d-397810611bdc  854983901    August 18, 2022   \n",
       "2  c65742e9-3028-4a4e-a17d-397810611bdc  802820824     August 9, 2021   \n",
       "3  c65742e9-3028-4a4e-a17d-397810611bdc  695360093     August 4, 2019   \n",
       "4  c65742e9-3028-4a4e-a17d-397810611bdc  693953389      July 29, 2019   \n",
       "\n",
       "                           review_title  \\\n",
       "0    Delicious food in a lovely setting   \n",
       "1                               Too bad   \n",
       "2                        What a find...   \n",
       "3                                Tasty!   \n",
       "4  Perfect end to the Monastery visit     \n",
       "\n",
       "                                         review_text rating votes  \n",
       "0  We’ve been here a few times. This was the best...     50        \n",
       "1  Dim lights and waiters in traditional costume ...     20        \n",
       "2  Stopped off here on the way from Skopje to Ohr...     50        \n",
       "3  We have meal there after visiting Monastery. T...     50        \n",
       "4  After the trip to the Monastery we stopped in ...     50        "
      ]
     },
     "execution_count": 5,
     "metadata": {},
     "output_type": "execute_result"
    }
   ],
   "source": [
    "df_reviews.head()"
   ]
  },
  {
   "cell_type": "code",
   "execution_count": 6,
   "id": "36d8d706",
   "metadata": {},
   "outputs": [
    {
     "data": {
      "text/plain": [
       "Index(['business_id', 'business_name', 'categories', 'city', 'full_address',\n",
       "       'display_phone', 'review_count', 'stars', 'price_tag', 'is_claimed',\n",
       "       'is_closed', 'coordinates', 'image', 'url'],\n",
       "      dtype='object')"
      ]
     },
     "execution_count": 6,
     "metadata": {},
     "output_type": "execute_result"
    }
   ],
   "source": [
    "df_unstructured.columns"
   ]
  },
  {
   "cell_type": "markdown",
   "id": "d9b4d024",
   "metadata": {},
   "source": [
    "Each encrypted business_id from the df_unstructured dataframe has corresponding entries in the df_reviews dataframe with the same business_id."
   ]
  },
  {
   "cell_type": "code",
   "execution_count": 7,
   "id": "6a369505",
   "metadata": {},
   "outputs": [],
   "source": [
    "# Reviews of the first entry of the df unstructured dataframe"
   ]
  },
  {
   "cell_type": "code",
   "execution_count": 8,
   "id": "18d83b4f",
   "metadata": {},
   "outputs": [
    {
     "data": {
      "text/html": [
       "<div>\n",
       "<style scoped>\n",
       "    .dataframe tbody tr th:only-of-type {\n",
       "        vertical-align: middle;\n",
       "    }\n",
       "\n",
       "    .dataframe tbody tr th {\n",
       "        vertical-align: top;\n",
       "    }\n",
       "\n",
       "    .dataframe thead th {\n",
       "        text-align: right;\n",
       "    }\n",
       "</style>\n",
       "<table border=\"1\" class=\"dataframe\">\n",
       "  <thead>\n",
       "    <tr style=\"text-align: right;\">\n",
       "      <th></th>\n",
       "      <th>user_id</th>\n",
       "      <th>business_id</th>\n",
       "      <th>review_id</th>\n",
       "      <th>review_date</th>\n",
       "      <th>review_title</th>\n",
       "      <th>review_text</th>\n",
       "      <th>rating</th>\n",
       "      <th>votes</th>\n",
       "    </tr>\n",
       "  </thead>\n",
       "  <tbody>\n",
       "    <tr>\n",
       "      <th>49</th>\n",
       "      <td>UID_4F3C01A5EE8395572EAAEC2DE9326363-SRC_85912...</td>\n",
       "      <td>5292a3ee-c57b-4c55-b882-1eebbafbb69c</td>\n",
       "      <td>859123177</td>\n",
       "      <td>September 8, 2022</td>\n",
       "      <td>Magnificent</td>\n",
       "      <td>This beautiful, family run, charming restauran...</td>\n",
       "      <td>50</td>\n",
       "      <td></td>\n",
       "    </tr>\n",
       "    <tr>\n",
       "      <th>50</th>\n",
       "      <td>UID_FE919B8620DFE9AA21462F5D8E8D675F-SRC_85869...</td>\n",
       "      <td>5292a3ee-c57b-4c55-b882-1eebbafbb69c</td>\n",
       "      <td>858698745</td>\n",
       "      <td>September 6, 2022</td>\n",
       "      <td>Great view, expensive and bad food</td>\n",
       "      <td>The view is great. But… thats it. They dont ha...</td>\n",
       "      <td>20</td>\n",
       "      <td>1</td>\n",
       "    </tr>\n",
       "    <tr>\n",
       "      <th>51</th>\n",
       "      <td>UID_785F6F99CB6392F8E36EAAD9768E96CF-SRC_85657...</td>\n",
       "      <td>5292a3ee-c57b-4c55-b882-1eebbafbb69c</td>\n",
       "      <td>856578101</td>\n",
       "      <td>August 26, 2022</td>\n",
       "      <td>Delicious food</td>\n",
       "      <td>We had a really good time here. The food is su...</td>\n",
       "      <td>50</td>\n",
       "      <td>1</td>\n",
       "    </tr>\n",
       "    <tr>\n",
       "      <th>52</th>\n",
       "      <td>UID_15AFF13259C63D5E1AD1CCE68A6077CB-SRC_85542...</td>\n",
       "      <td>5292a3ee-c57b-4c55-b882-1eebbafbb69c</td>\n",
       "      <td>855425281</td>\n",
       "      <td>August 21, 2022</td>\n",
       "      <td>Lovely dinner</td>\n",
       "      <td>Amazing fresh food    \\nGreat hospitality \\nRe...</td>\n",
       "      <td>50</td>\n",
       "      <td>1</td>\n",
       "    </tr>\n",
       "    <tr>\n",
       "      <th>53</th>\n",
       "      <td>UID_DB61FB463458D9132414CCF0F6742DEE-SRC_85473...</td>\n",
       "      <td>5292a3ee-c57b-4c55-b882-1eebbafbb69c</td>\n",
       "      <td>854730950</td>\n",
       "      <td>August 17, 2022</td>\n",
       "      <td>Pesce</td>\n",
       "      <td>The fish is really amazing but we waited an ho...</td>\n",
       "      <td>40</td>\n",
       "      <td>1</td>\n",
       "    </tr>\n",
       "    <tr>\n",
       "      <th>54</th>\n",
       "      <td>UID_5660FC9B2C2E720BB4F2EC8CD6F0D5BA-SRC_85413...</td>\n",
       "      <td>5292a3ee-c57b-4c55-b882-1eebbafbb69c</td>\n",
       "      <td>854137336</td>\n",
       "      <td>August 14, 2022</td>\n",
       "      <td>Terrible service and trying to overcharge</td>\n",
       "      <td>Food was average, what really dossapointed me ...</td>\n",
       "      <td>10</td>\n",
       "      <td>1</td>\n",
       "    </tr>\n",
       "    <tr>\n",
       "      <th>55</th>\n",
       "      <td>UID_1F42C711823C0CEE69C4D127CAF040B8-SRC_85153...</td>\n",
       "      <td>5292a3ee-c57b-4c55-b882-1eebbafbb69c</td>\n",
       "      <td>851532643</td>\n",
       "      <td>August 2, 2022</td>\n",
       "      <td>Favoloso</td>\n",
       "      <td>Tasty food, warm people, amazing dinner with a...</td>\n",
       "      <td>50</td>\n",
       "      <td></td>\n",
       "    </tr>\n",
       "    <tr>\n",
       "      <th>56</th>\n",
       "      <td>UID_1ED4D8F55AD242C534F8275A0696A532-SRC_85150...</td>\n",
       "      <td>5292a3ee-c57b-4c55-b882-1eebbafbb69c</td>\n",
       "      <td>851502130</td>\n",
       "      <td>August 2, 2022</td>\n",
       "      <td>Mrs. Mirela Koci</td>\n",
       "      <td>Excellent local food. Excellent service. If yo...</td>\n",
       "      <td>50</td>\n",
       "      <td></td>\n",
       "    </tr>\n",
       "    <tr>\n",
       "      <th>57</th>\n",
       "      <td>UID_E98D0C62D70645A1E47FBDED4A3EAFC8-SRC_84829...</td>\n",
       "      <td>5292a3ee-c57b-4c55-b882-1eebbafbb69c</td>\n",
       "      <td>848293391</td>\n",
       "      <td>July 16, 2022</td>\n",
       "      <td>Hidden gem in Dhermi</td>\n",
       "      <td>Genuinely cooked food from the owner and his w...</td>\n",
       "      <td>50</td>\n",
       "      <td>1</td>\n",
       "    </tr>\n",
       "    <tr>\n",
       "      <th>58</th>\n",
       "      <td>UID_2F62F029F51C02A8A35F896F96D3F2EA-SRC_84497...</td>\n",
       "      <td>5292a3ee-c57b-4c55-b882-1eebbafbb69c</td>\n",
       "      <td>844978434</td>\n",
       "      <td>June 27, 2022</td>\n",
       "      <td>Family business</td>\n",
       "      <td>Please be prepeard they don't speak english, a...</td>\n",
       "      <td>50</td>\n",
       "      <td></td>\n",
       "    </tr>\n",
       "    <tr>\n",
       "      <th>59</th>\n",
       "      <td>UID_3FB2FF0913E6DDDBECBF7E9FC0DFE2C8-SRC_84359...</td>\n",
       "      <td>5292a3ee-c57b-4c55-b882-1eebbafbb69c</td>\n",
       "      <td>843592343</td>\n",
       "      <td>June 19, 2022</td>\n",
       "      <td>Never again</td>\n",
       "      <td>8 pm in mid June and we’re the only customers,...</td>\n",
       "      <td>10</td>\n",
       "      <td>1</td>\n",
       "    </tr>\n",
       "    <tr>\n",
       "      <th>60</th>\n",
       "      <td>UID_4DF16070729AB4D576BF16E4B041E205-SRC_80585...</td>\n",
       "      <td>5292a3ee-c57b-4c55-b882-1eebbafbb69c</td>\n",
       "      <td>805856162</td>\n",
       "      <td>August 23, 2021</td>\n",
       "      <td>Wonderful view and terrible service</td>\n",
       "      <td>Good:\\nWonderful view of mountains and sea\\nTa...</td>\n",
       "      <td>20</td>\n",
       "      <td>1</td>\n",
       "    </tr>\n",
       "    <tr>\n",
       "      <th>61</th>\n",
       "      <td>UID_E2925B3552B638BEDECF9BD1602B3C0E-SRC_80430...</td>\n",
       "      <td>5292a3ee-c57b-4c55-b882-1eebbafbb69c</td>\n",
       "      <td>804303923</td>\n",
       "      <td>August 16, 2021</td>\n",
       "      <td>Dinner for two</td>\n",
       "      <td>The place has a very good view on the Dhermi b...</td>\n",
       "      <td>50</td>\n",
       "      <td>1</td>\n",
       "    </tr>\n",
       "    <tr>\n",
       "      <th>62</th>\n",
       "      <td>UID_714A2F052DE6166BD83E6126EB7E265E-SRC_80257...</td>\n",
       "      <td>5292a3ee-c57b-4c55-b882-1eebbafbb69c</td>\n",
       "      <td>802570393</td>\n",
       "      <td>August 8, 2021</td>\n",
       "      <td>Amazing!</td>\n",
       "      <td>All you could want. Friendly staff, amazing fo...</td>\n",
       "      <td>50</td>\n",
       "      <td>2</td>\n",
       "    </tr>\n",
       "    <tr>\n",
       "      <th>63</th>\n",
       "      <td>UID_9F46D8E5A205A761705A32343238466F-SRC_80257...</td>\n",
       "      <td>5292a3ee-c57b-4c55-b882-1eebbafbb69c</td>\n",
       "      <td>802570265</td>\n",
       "      <td>August 8, 2021</td>\n",
       "      <td>Amazing!</td>\n",
       "      <td>Extremely good food and a really friendly owne...</td>\n",
       "      <td>50</td>\n",
       "      <td>2</td>\n",
       "    </tr>\n",
       "  </tbody>\n",
       "</table>\n",
       "</div>"
      ],
      "text/plain": [
       "                                              user_id  \\\n",
       "49  UID_4F3C01A5EE8395572EAAEC2DE9326363-SRC_85912...   \n",
       "50  UID_FE919B8620DFE9AA21462F5D8E8D675F-SRC_85869...   \n",
       "51  UID_785F6F99CB6392F8E36EAAD9768E96CF-SRC_85657...   \n",
       "52  UID_15AFF13259C63D5E1AD1CCE68A6077CB-SRC_85542...   \n",
       "53  UID_DB61FB463458D9132414CCF0F6742DEE-SRC_85473...   \n",
       "54  UID_5660FC9B2C2E720BB4F2EC8CD6F0D5BA-SRC_85413...   \n",
       "55  UID_1F42C711823C0CEE69C4D127CAF040B8-SRC_85153...   \n",
       "56  UID_1ED4D8F55AD242C534F8275A0696A532-SRC_85150...   \n",
       "57  UID_E98D0C62D70645A1E47FBDED4A3EAFC8-SRC_84829...   \n",
       "58  UID_2F62F029F51C02A8A35F896F96D3F2EA-SRC_84497...   \n",
       "59  UID_3FB2FF0913E6DDDBECBF7E9FC0DFE2C8-SRC_84359...   \n",
       "60  UID_4DF16070729AB4D576BF16E4B041E205-SRC_80585...   \n",
       "61  UID_E2925B3552B638BEDECF9BD1602B3C0E-SRC_80430...   \n",
       "62  UID_714A2F052DE6166BD83E6126EB7E265E-SRC_80257...   \n",
       "63  UID_9F46D8E5A205A761705A32343238466F-SRC_80257...   \n",
       "\n",
       "                             business_id  review_id        review_date  \\\n",
       "49  5292a3ee-c57b-4c55-b882-1eebbafbb69c  859123177  September 8, 2022   \n",
       "50  5292a3ee-c57b-4c55-b882-1eebbafbb69c  858698745  September 6, 2022   \n",
       "51  5292a3ee-c57b-4c55-b882-1eebbafbb69c  856578101    August 26, 2022   \n",
       "52  5292a3ee-c57b-4c55-b882-1eebbafbb69c  855425281    August 21, 2022   \n",
       "53  5292a3ee-c57b-4c55-b882-1eebbafbb69c  854730950    August 17, 2022   \n",
       "54  5292a3ee-c57b-4c55-b882-1eebbafbb69c  854137336    August 14, 2022   \n",
       "55  5292a3ee-c57b-4c55-b882-1eebbafbb69c  851532643     August 2, 2022   \n",
       "56  5292a3ee-c57b-4c55-b882-1eebbafbb69c  851502130     August 2, 2022   \n",
       "57  5292a3ee-c57b-4c55-b882-1eebbafbb69c  848293391      July 16, 2022   \n",
       "58  5292a3ee-c57b-4c55-b882-1eebbafbb69c  844978434      June 27, 2022   \n",
       "59  5292a3ee-c57b-4c55-b882-1eebbafbb69c  843592343      June 19, 2022   \n",
       "60  5292a3ee-c57b-4c55-b882-1eebbafbb69c  805856162    August 23, 2021   \n",
       "61  5292a3ee-c57b-4c55-b882-1eebbafbb69c  804303923    August 16, 2021   \n",
       "62  5292a3ee-c57b-4c55-b882-1eebbafbb69c  802570393     August 8, 2021   \n",
       "63  5292a3ee-c57b-4c55-b882-1eebbafbb69c  802570265     August 8, 2021   \n",
       "\n",
       "                                 review_title  \\\n",
       "49                                Magnificent   \n",
       "50         Great view, expensive and bad food   \n",
       "51                             Delicious food   \n",
       "52                              Lovely dinner   \n",
       "53                                      Pesce   \n",
       "54  Terrible service and trying to overcharge   \n",
       "55                                   Favoloso   \n",
       "56                           Mrs. Mirela Koci   \n",
       "57                       Hidden gem in Dhermi   \n",
       "58                            Family business   \n",
       "59                                Never again   \n",
       "60        Wonderful view and terrible service   \n",
       "61                             Dinner for two   \n",
       "62                                   Amazing!   \n",
       "63                                   Amazing!   \n",
       "\n",
       "                                          review_text rating votes  \n",
       "49  This beautiful, family run, charming restauran...     50        \n",
       "50  The view is great. But… thats it. They dont ha...     20   1    \n",
       "51  We had a really good time here. The food is su...     50   1    \n",
       "52  Amazing fresh food    \\nGreat hospitality \\nRe...     50   1    \n",
       "53  The fish is really amazing but we waited an ho...     40   1    \n",
       "54  Food was average, what really dossapointed me ...     10   1    \n",
       "55  Tasty food, warm people, amazing dinner with a...     50        \n",
       "56  Excellent local food. Excellent service. If yo...     50        \n",
       "57  Genuinely cooked food from the owner and his w...     50   1    \n",
       "58  Please be prepeard they don't speak english, a...     50        \n",
       "59  8 pm in mid June and we’re the only customers,...     10   1    \n",
       "60  Good:\\nWonderful view of mountains and sea\\nTa...     20   1    \n",
       "61  The place has a very good view on the Dhermi b...     50   1    \n",
       "62  All you could want. Friendly staff, amazing fo...     50   2    \n",
       "63  Extremely good food and a really friendly owne...     50   2    "
      ]
     },
     "execution_count": 8,
     "metadata": {},
     "output_type": "execute_result"
    }
   ],
   "source": [
    "df_reviews[df_reviews['business_id'] == df_unstructured['business_id'][0]]"
   ]
  },
  {
   "cell_type": "code",
   "execution_count": 9,
   "id": "b50fe323",
   "metadata": {},
   "outputs": [
    {
     "data": {
      "text/plain": [
       "'Taverna Fevan'"
      ]
     },
     "execution_count": 9,
     "metadata": {},
     "output_type": "execute_result"
    }
   ],
   "source": [
    "df_unstructured['business_name'][0]"
   ]
  },
  {
   "cell_type": "markdown",
   "id": "af3961b8",
   "metadata": {},
   "source": [
    "#### Cleaning Unstructured DataFrame"
   ]
  },
  {
   "cell_type": "code",
   "execution_count": 10,
   "id": "fa0b5064",
   "metadata": {},
   "outputs": [
    {
     "name": "stdout",
     "output_type": "stream",
     "text": [
      "<class 'pandas.core.frame.DataFrame'>\n",
      "RangeIndex: 4056 entries, 0 to 4055\n",
      "Data columns (total 14 columns):\n",
      " #   Column         Non-Null Count  Dtype \n",
      "---  ------         --------------  ----- \n",
      " 0   business_id    4056 non-null   object\n",
      " 1   business_name  4048 non-null   object\n",
      " 2   categories     4056 non-null   object\n",
      " 3   city           4056 non-null   object\n",
      " 4   full_address   4048 non-null   object\n",
      " 5   display_phone  3573 non-null   object\n",
      " 6   review_count   4056 non-null   object\n",
      " 7   stars          4056 non-null   object\n",
      " 8   price_tag      4056 non-null   object\n",
      " 9   is_claimed     4056 non-null   bool  \n",
      " 10  is_closed      4056 non-null   bool  \n",
      " 11  coordinates    4056 non-null   object\n",
      " 12  image          3507 non-null   object\n",
      " 13  url            4056 non-null   object\n",
      "dtypes: bool(2), object(12)\n",
      "memory usage: 388.3+ KB\n"
     ]
    }
   ],
   "source": [
    "df_unstructured.info()"
   ]
  },
  {
   "cell_type": "markdown",
   "id": "5eac1c71",
   "metadata": {},
   "source": [
    "Review Count seems to be an object type and might contain number such as 1,666 as string so we need to convert it to float."
   ]
  },
  {
   "cell_type": "code",
   "execution_count": 11,
   "id": "856f719f",
   "metadata": {},
   "outputs": [],
   "source": [
    "def replace_comma(x):\n",
    "    if x == None:\n",
    "        return 0.0\n",
    "    elif ',' in x:\n",
    "        return float(x.replace(',', ''))\n",
    "    else:\n",
    "        return float(x)\n",
    "    \n",
    "df_unstructured['review_count'] = df_unstructured['review_count'].apply(lambda x: replace_comma(x))"
   ]
  },
  {
   "cell_type": "code",
   "execution_count": 12,
   "id": "07ab3db9",
   "metadata": {},
   "outputs": [],
   "source": [
    "# Convert stars to float\n",
    "df_unstructured['stars'] = df_unstructured['stars'].apply(lambda x: float(x))"
   ]
  },
  {
   "cell_type": "markdown",
   "id": "815f6eca",
   "metadata": {},
   "source": [
    "Price tag seems to be an object with $ elements and if no element then 'No price tag'. We need to arrange it to a set of numbers."
   ]
  },
  {
   "cell_type": "code",
   "execution_count": 13,
   "id": "2f3e6841",
   "metadata": {},
   "outputs": [
    {
     "data": {
      "text/plain": [
       "No price tag    1668\n",
       "$$ - $$$        1460\n",
       "$                804\n",
       "$$$$             124\n",
       "Name: price_tag, dtype: int64"
      ]
     },
     "execution_count": 13,
     "metadata": {},
     "output_type": "execute_result"
    }
   ],
   "source": [
    "df_unstructured['price_tag'].value_counts()"
   ]
  },
  {
   "cell_type": "code",
   "execution_count": 14,
   "id": "4cc18bc5",
   "metadata": {},
   "outputs": [],
   "source": [
    "def process_price_tag(x):\n",
    "    if x is None or x == '$' or x == 'No price tag':\n",
    "        return 1.0\n",
    "    elif x == '$$ - $$$':\n",
    "        return 2.5\n",
    "    elif x == '$$$$':\n",
    "        return 4\n",
    "    \n",
    "df_unstructured['price_tag'] = df_unstructured['price_tag'].apply(lambda x: process_price_tag(x))"
   ]
  },
  {
   "cell_type": "markdown",
   "id": "c0d975de",
   "metadata": {},
   "source": [
    "Coordinates looks to be in a list with latitude and longitude. We need to normalize it into two columns."
   ]
  },
  {
   "cell_type": "code",
   "execution_count": 15,
   "id": "ed184574",
   "metadata": {},
   "outputs": [],
   "source": [
    "df_unstructured['latitude'] = df_unstructured['coordinates'].apply(lambda x: x[0])\n",
    "df_unstructured['longitude'] = df_unstructured['coordinates'].apply(lambda x: x[1])"
   ]
  },
  {
   "cell_type": "code",
   "execution_count": 16,
   "id": "eefc3ec3",
   "metadata": {},
   "outputs": [],
   "source": [
    "df_unstructured.drop('coordinates', axis=1, inplace=True)"
   ]
  },
  {
   "cell_type": "code",
   "execution_count": 17,
   "id": "ddd78cc3",
   "metadata": {},
   "outputs": [
    {
     "data": {
      "text/plain": [
       "business_id        0\n",
       "business_name      8\n",
       "categories         0\n",
       "city               0\n",
       "full_address       8\n",
       "display_phone    483\n",
       "review_count       0\n",
       "stars              0\n",
       "price_tag          0\n",
       "is_claimed         0\n",
       "is_closed          0\n",
       "image            549\n",
       "url                0\n",
       "latitude           0\n",
       "longitude          0\n",
       "dtype: int64"
      ]
     },
     "execution_count": 17,
     "metadata": {},
     "output_type": "execute_result"
    }
   ],
   "source": [
    "df_unstructured.isnull().sum()"
   ]
  },
  {
   "cell_type": "code",
   "execution_count": 18,
   "id": "01538f13",
   "metadata": {},
   "outputs": [],
   "source": [
    "def check_null(df):\n",
    "    percent_missing = df.isnull().sum() * 100 / len(df)\n",
    "    missing_value_df = pd.DataFrame({'column_name': df.columns,\n",
    "                                     'percent_missing': percent_missing})\n",
    "    missing_value_df.sort_values('percent_missing', inplace=True)\n",
    "    return missing_value_df"
   ]
  },
  {
   "cell_type": "code",
   "execution_count": 19,
   "id": "29242550",
   "metadata": {},
   "outputs": [
    {
     "data": {
      "text/html": [
       "<div>\n",
       "<style scoped>\n",
       "    .dataframe tbody tr th:only-of-type {\n",
       "        vertical-align: middle;\n",
       "    }\n",
       "\n",
       "    .dataframe tbody tr th {\n",
       "        vertical-align: top;\n",
       "    }\n",
       "\n",
       "    .dataframe thead th {\n",
       "        text-align: right;\n",
       "    }\n",
       "</style>\n",
       "<table border=\"1\" class=\"dataframe\">\n",
       "  <thead>\n",
       "    <tr style=\"text-align: right;\">\n",
       "      <th></th>\n",
       "      <th>column_name</th>\n",
       "      <th>percent_missing</th>\n",
       "    </tr>\n",
       "  </thead>\n",
       "  <tbody>\n",
       "    <tr>\n",
       "      <th>business_id</th>\n",
       "      <td>business_id</td>\n",
       "      <td>0.000000</td>\n",
       "    </tr>\n",
       "    <tr>\n",
       "      <th>categories</th>\n",
       "      <td>categories</td>\n",
       "      <td>0.000000</td>\n",
       "    </tr>\n",
       "    <tr>\n",
       "      <th>city</th>\n",
       "      <td>city</td>\n",
       "      <td>0.000000</td>\n",
       "    </tr>\n",
       "    <tr>\n",
       "      <th>review_count</th>\n",
       "      <td>review_count</td>\n",
       "      <td>0.000000</td>\n",
       "    </tr>\n",
       "    <tr>\n",
       "      <th>stars</th>\n",
       "      <td>stars</td>\n",
       "      <td>0.000000</td>\n",
       "    </tr>\n",
       "    <tr>\n",
       "      <th>price_tag</th>\n",
       "      <td>price_tag</td>\n",
       "      <td>0.000000</td>\n",
       "    </tr>\n",
       "    <tr>\n",
       "      <th>is_claimed</th>\n",
       "      <td>is_claimed</td>\n",
       "      <td>0.000000</td>\n",
       "    </tr>\n",
       "    <tr>\n",
       "      <th>is_closed</th>\n",
       "      <td>is_closed</td>\n",
       "      <td>0.000000</td>\n",
       "    </tr>\n",
       "    <tr>\n",
       "      <th>url</th>\n",
       "      <td>url</td>\n",
       "      <td>0.000000</td>\n",
       "    </tr>\n",
       "    <tr>\n",
       "      <th>latitude</th>\n",
       "      <td>latitude</td>\n",
       "      <td>0.000000</td>\n",
       "    </tr>\n",
       "    <tr>\n",
       "      <th>longitude</th>\n",
       "      <td>longitude</td>\n",
       "      <td>0.000000</td>\n",
       "    </tr>\n",
       "    <tr>\n",
       "      <th>business_name</th>\n",
       "      <td>business_name</td>\n",
       "      <td>0.197239</td>\n",
       "    </tr>\n",
       "    <tr>\n",
       "      <th>full_address</th>\n",
       "      <td>full_address</td>\n",
       "      <td>0.197239</td>\n",
       "    </tr>\n",
       "    <tr>\n",
       "      <th>display_phone</th>\n",
       "      <td>display_phone</td>\n",
       "      <td>11.908284</td>\n",
       "    </tr>\n",
       "    <tr>\n",
       "      <th>image</th>\n",
       "      <td>image</td>\n",
       "      <td>13.535503</td>\n",
       "    </tr>\n",
       "  </tbody>\n",
       "</table>\n",
       "</div>"
      ],
      "text/plain": [
       "                 column_name  percent_missing\n",
       "business_id      business_id         0.000000\n",
       "categories        categories         0.000000\n",
       "city                    city         0.000000\n",
       "review_count    review_count         0.000000\n",
       "stars                  stars         0.000000\n",
       "price_tag          price_tag         0.000000\n",
       "is_claimed        is_claimed         0.000000\n",
       "is_closed          is_closed         0.000000\n",
       "url                      url         0.000000\n",
       "latitude            latitude         0.000000\n",
       "longitude          longitude         0.000000\n",
       "business_name  business_name         0.197239\n",
       "full_address    full_address         0.197239\n",
       "display_phone  display_phone        11.908284\n",
       "image                  image        13.535503"
      ]
     },
     "execution_count": 19,
     "metadata": {},
     "output_type": "execute_result"
    }
   ],
   "source": [
    "check_null(df_unstructured)"
   ]
  },
  {
   "cell_type": "markdown",
   "id": "5c92a10b",
   "metadata": {},
   "source": [
    "We can see that the columns that are missing mostly are image and display phone. However, we don't need to drop these values since image and display phone are not important columns.\n",
    "\n",
    "Moreover, we see a small portion of businesses that are missing the name and full_address. We will drop these values"
   ]
  },
  {
   "cell_type": "code",
   "execution_count": 20,
   "id": "d04c0a89",
   "metadata": {},
   "outputs": [],
   "source": [
    "df_unstructured.dropna(subset=['business_name', 'full_address'], inplace=True)"
   ]
  },
  {
   "cell_type": "code",
   "execution_count": 21,
   "id": "0bf50ba6",
   "metadata": {},
   "outputs": [
    {
     "name": "stdout",
     "output_type": "stream",
     "text": [
      "<class 'pandas.core.frame.DataFrame'>\n",
      "Int64Index: 4048 entries, 0 to 4055\n",
      "Data columns (total 15 columns):\n",
      " #   Column         Non-Null Count  Dtype  \n",
      "---  ------         --------------  -----  \n",
      " 0   business_id    4048 non-null   object \n",
      " 1   business_name  4048 non-null   object \n",
      " 2   categories     4048 non-null   object \n",
      " 3   city           4048 non-null   object \n",
      " 4   full_address   4048 non-null   object \n",
      " 5   display_phone  3573 non-null   object \n",
      " 6   review_count   4048 non-null   float64\n",
      " 7   stars          4048 non-null   float64\n",
      " 8   price_tag      4048 non-null   float64\n",
      " 9   is_claimed     4048 non-null   bool   \n",
      " 10  is_closed      4048 non-null   bool   \n",
      " 11  image          3501 non-null   object \n",
      " 12  url            4048 non-null   object \n",
      " 13  latitude       4048 non-null   float64\n",
      " 14  longitude      4048 non-null   float64\n",
      "dtypes: bool(2), float64(5), object(8)\n",
      "memory usage: 450.7+ KB\n"
     ]
    }
   ],
   "source": [
    "df_unstructured.info()"
   ]
  },
  {
   "cell_type": "code",
   "execution_count": 22,
   "id": "904d8f9e",
   "metadata": {},
   "outputs": [],
   "source": [
    "df_cleaned = df_unstructured"
   ]
  },
  {
   "cell_type": "markdown",
   "id": "388b0f0f",
   "metadata": {},
   "source": [
    "\n",
    "#### Cleaning Reviews DataFrame"
   ]
  },
  {
   "cell_type": "code",
   "execution_count": 23,
   "id": "9e36f9bc",
   "metadata": {},
   "outputs": [
    {
     "name": "stdout",
     "output_type": "stream",
     "text": [
      "<class 'pandas.core.frame.DataFrame'>\n",
      "RangeIndex: 23896 entries, 0 to 23895\n",
      "Data columns (total 8 columns):\n",
      " #   Column        Non-Null Count  Dtype \n",
      "---  ------        --------------  ----- \n",
      " 0   user_id       23894 non-null  object\n",
      " 1   business_id   23896 non-null  object\n",
      " 2   review_id     23896 non-null  object\n",
      " 3   review_date   23896 non-null  object\n",
      " 4   review_title  23896 non-null  object\n",
      " 5   review_text   23896 non-null  object\n",
      " 6   rating        23896 non-null  object\n",
      " 7   votes         23896 non-null  object\n",
      "dtypes: object(8)\n",
      "memory usage: 1.5+ MB\n"
     ]
    }
   ],
   "source": [
    "df_reviews.info()"
   ]
  },
  {
   "cell_type": "code",
   "execution_count": 24,
   "id": "c307c73e",
   "metadata": {},
   "outputs": [],
   "source": [
    "# first of let us turn review date into a datetime64[ns] object\n",
    "df_reviews['review_date'] = pd.to_datetime(df_reviews['review_date'])"
   ]
  },
  {
   "cell_type": "code",
   "execution_count": 25,
   "id": "63ae1472",
   "metadata": {},
   "outputs": [
    {
     "data": {
      "text/html": [
       "<div>\n",
       "<style scoped>\n",
       "    .dataframe tbody tr th:only-of-type {\n",
       "        vertical-align: middle;\n",
       "    }\n",
       "\n",
       "    .dataframe tbody tr th {\n",
       "        vertical-align: top;\n",
       "    }\n",
       "\n",
       "    .dataframe thead th {\n",
       "        text-align: right;\n",
       "    }\n",
       "</style>\n",
       "<table border=\"1\" class=\"dataframe\">\n",
       "  <thead>\n",
       "    <tr style=\"text-align: right;\">\n",
       "      <th></th>\n",
       "      <th>column_name</th>\n",
       "      <th>percent_missing</th>\n",
       "    </tr>\n",
       "  </thead>\n",
       "  <tbody>\n",
       "    <tr>\n",
       "      <th>business_id</th>\n",
       "      <td>business_id</td>\n",
       "      <td>0.00000</td>\n",
       "    </tr>\n",
       "    <tr>\n",
       "      <th>review_id</th>\n",
       "      <td>review_id</td>\n",
       "      <td>0.00000</td>\n",
       "    </tr>\n",
       "    <tr>\n",
       "      <th>review_date</th>\n",
       "      <td>review_date</td>\n",
       "      <td>0.00000</td>\n",
       "    </tr>\n",
       "    <tr>\n",
       "      <th>review_title</th>\n",
       "      <td>review_title</td>\n",
       "      <td>0.00000</td>\n",
       "    </tr>\n",
       "    <tr>\n",
       "      <th>review_text</th>\n",
       "      <td>review_text</td>\n",
       "      <td>0.00000</td>\n",
       "    </tr>\n",
       "    <tr>\n",
       "      <th>rating</th>\n",
       "      <td>rating</td>\n",
       "      <td>0.00000</td>\n",
       "    </tr>\n",
       "    <tr>\n",
       "      <th>votes</th>\n",
       "      <td>votes</td>\n",
       "      <td>0.00000</td>\n",
       "    </tr>\n",
       "    <tr>\n",
       "      <th>user_id</th>\n",
       "      <td>user_id</td>\n",
       "      <td>0.00837</td>\n",
       "    </tr>\n",
       "  </tbody>\n",
       "</table>\n",
       "</div>"
      ],
      "text/plain": [
       "               column_name  percent_missing\n",
       "business_id    business_id          0.00000\n",
       "review_id        review_id          0.00000\n",
       "review_date    review_date          0.00000\n",
       "review_title  review_title          0.00000\n",
       "review_text    review_text          0.00000\n",
       "rating              rating          0.00000\n",
       "votes                votes          0.00000\n",
       "user_id            user_id          0.00837"
      ]
     },
     "execution_count": 25,
     "metadata": {},
     "output_type": "execute_result"
    }
   ],
   "source": [
    "# Let's check for null values\n",
    "check_null(df_reviews)"
   ]
  },
  {
   "cell_type": "markdown",
   "id": "8e9a53ee",
   "metadata": {},
   "source": [
    "We can see that there is only a really smart portion of nulls in user_id; but we do not need to drop them"
   ]
  },
  {
   "cell_type": "markdown",
   "id": "ea1097dd",
   "metadata": {},
   "source": [
    "Let strip review text and title"
   ]
  },
  {
   "cell_type": "code",
   "execution_count": 26,
   "id": "2dc75f2a",
   "metadata": {},
   "outputs": [],
   "source": [
    "df_reviews['review_text'] = df_reviews['review_text'].apply(lambda x: x.strip())\n",
    "df_reviews['review_title'] = df_reviews['review_title'].apply(lambda x: x.strip())\n",
    "df_reviews['votes'] = df_reviews['votes'].apply(lambda x: x.strip())"
   ]
  },
  {
   "cell_type": "markdown",
   "id": "bebccfbc",
   "metadata": {},
   "source": [
    "We also need to normalize ratings from 1-5"
   ]
  },
  {
   "cell_type": "code",
   "execution_count": 27,
   "id": "96a8ad10",
   "metadata": {},
   "outputs": [],
   "source": [
    "df_reviews['rating'] = df_reviews['rating'].apply(lambda x: float(x))\n",
    "df_reviews['rating'] = df_reviews['rating']/10"
   ]
  },
  {
   "cell_type": "markdown",
   "id": "9ac159d9",
   "metadata": {},
   "source": [
    "Let's turn empty votes string to 0"
   ]
  },
  {
   "cell_type": "code",
   "execution_count": 28,
   "id": "309f5911",
   "metadata": {},
   "outputs": [
    {
     "data": {
      "text/plain": [
       "       16910\n",
       "1       4470\n",
       "2       1468\n",
       "3        439\n",
       "0        367\n",
       "4        139\n",
       "5         38\n",
       "6         14\n",
       "7          8\n",
       "8          5\n",
       "16         4\n",
       "9          4\n",
       "12         4\n",
       "20         3\n",
       "11         3\n",
       "31         2\n",
       "15         2\n",
       "27         2\n",
       "10         2\n",
       "17         1\n",
       "14         1\n",
       "369        1\n",
       "52         1\n",
       "40         1\n",
       "65         1\n",
       "67         1\n",
       "19         1\n",
       "46         1\n",
       "42         1\n",
       "32         1\n",
       "50         1\n",
       "Name: votes, dtype: int64"
      ]
     },
     "execution_count": 28,
     "metadata": {},
     "output_type": "execute_result"
    }
   ],
   "source": [
    "df_reviews['votes'].value_counts()"
   ]
  },
  {
   "cell_type": "code",
   "execution_count": 29,
   "id": "85d6fa62",
   "metadata": {},
   "outputs": [],
   "source": [
    "def process_votes(x):\n",
    "    if not x:\n",
    "        return 0.0\n",
    "    else:\n",
    "        return float(x)\n",
    "    \n",
    "df_reviews['votes'] = df_reviews['votes'].apply(lambda x: process_votes(x))"
   ]
  },
  {
   "cell_type": "code",
   "execution_count": 30,
   "id": "c1c61a21",
   "metadata": {},
   "outputs": [
    {
     "data": {
      "text/plain": [
       "0.0      17277\n",
       "1.0       4470\n",
       "2.0       1468\n",
       "3.0        439\n",
       "4.0        139\n",
       "5.0         38\n",
       "6.0         14\n",
       "7.0          8\n",
       "8.0          5\n",
       "9.0          4\n",
       "16.0         4\n",
       "12.0         4\n",
       "20.0         3\n",
       "11.0         3\n",
       "31.0         2\n",
       "15.0         2\n",
       "27.0         2\n",
       "10.0         2\n",
       "17.0         1\n",
       "14.0         1\n",
       "369.0        1\n",
       "52.0         1\n",
       "46.0         1\n",
       "65.0         1\n",
       "67.0         1\n",
       "19.0         1\n",
       "40.0         1\n",
       "42.0         1\n",
       "32.0         1\n",
       "50.0         1\n",
       "Name: votes, dtype: int64"
      ]
     },
     "execution_count": 30,
     "metadata": {},
     "output_type": "execute_result"
    }
   ],
   "source": [
    "df_reviews['votes'].value_counts()"
   ]
  },
  {
   "cell_type": "code",
   "execution_count": 31,
   "id": "20d56269",
   "metadata": {},
   "outputs": [],
   "source": [
    "df_reviews['review_title'] = df_reviews['review_title'].apply(lambda x:'No title' if x == '' else x)\n",
    "df_reviews['review_text'] = df_reviews['review_text'].apply(lambda x:'No text' if x == '' or x == 'More' else x)"
   ]
  },
  {
   "cell_type": "code",
   "execution_count": 32,
   "id": "28ff2546",
   "metadata": {},
   "outputs": [
    {
     "name": "stdout",
     "output_type": "stream",
     "text": [
      "<class 'pandas.core.frame.DataFrame'>\n",
      "RangeIndex: 23896 entries, 0 to 23895\n",
      "Data columns (total 8 columns):\n",
      " #   Column        Non-Null Count  Dtype         \n",
      "---  ------        --------------  -----         \n",
      " 0   user_id       23894 non-null  object        \n",
      " 1   business_id   23896 non-null  object        \n",
      " 2   review_id     23896 non-null  object        \n",
      " 3   review_date   23896 non-null  datetime64[ns]\n",
      " 4   review_title  23896 non-null  object        \n",
      " 5   review_text   23896 non-null  object        \n",
      " 6   rating        23896 non-null  float64       \n",
      " 7   votes         23896 non-null  float64       \n",
      "dtypes: datetime64[ns](1), float64(2), object(5)\n",
      "memory usage: 1.5+ MB\n"
     ]
    }
   ],
   "source": [
    "df_reviews.info()"
   ]
  },
  {
   "cell_type": "markdown",
   "id": "8d3bba11",
   "metadata": {},
   "source": [
    "#### Saving cleaned data\n",
    "\n",
    "First make sure to not save any duplicated data and then\n",
    "\n",
    "Saving data info and data reviews to \n",
    "```\n",
    "datasets\\unprocessed_clean\n",
    "```"
   ]
  },
  {
   "cell_type": "code",
   "execution_count": 33,
   "id": "cbea74ea",
   "metadata": {},
   "outputs": [],
   "source": [
    "df_cleaned['categories'] = df_cleaned['categories'].apply(lambda x: ' '.join(x))\n",
    "df_cleaned.drop_duplicates(inplace=True)\n",
    "df_reviews.drop_duplicates(inplace=True)\n",
    "df_cleaned['categories'] = df_cleaned['categories'].apply(lambda x: x.split(' '))"
   ]
  },
  {
   "cell_type": "code",
   "execution_count": 34,
   "id": "a328344f",
   "metadata": {},
   "outputs": [
    {
     "data": {
      "text/plain": [
       "[]                                         399\n",
       "[European, Albanian]                       293\n",
       "[Seafood, Mediterranean, European]         131\n",
       "[Italian, Seafood, Mediterranean]           98\n",
       "[Italian, European, Albanian]               91\n",
       "                                          ... \n",
       "[Mexican, Fast, Food]                        1\n",
       "[Bar, Barbecue, British, Pub]                1\n",
       "[European, Healthy, Eastern, European]       1\n",
       "[Bar, Cafe, Barbecue, European]              1\n",
       "[Seafood, Mediterranean, European, Pub]      1\n",
       "Name: categories, Length: 1078, dtype: int64"
      ]
     },
     "execution_count": 34,
     "metadata": {},
     "output_type": "execute_result"
    }
   ],
   "source": [
    "df_cleaned['categories'].value_counts()"
   ]
  },
  {
   "cell_type": "code",
   "execution_count": 35,
   "id": "260068ae",
   "metadata": {},
   "outputs": [],
   "source": [
    "def save(path):\n",
    "    os.makedirs(path, exist_ok=True)\n",
    "    df_cleaned.to_pickle(f\"{path}/businesses_data_cleaned.pkl\")\n",
    "    df_reviews.to_pickle(f\"{path}/businesses_reviews_cleaned.pkl\")\n",
    "    \n",
    "save('../datasets/unprocessed_clean')"
   ]
  },
  {
   "cell_type": "code",
   "execution_count": null,
   "id": "c828545e",
   "metadata": {},
   "outputs": [],
   "source": []
  }
 ],
 "metadata": {
  "kernelspec": {
   "display_name": "Python 3 (ipykernel)",
   "language": "python",
   "name": "python3"
  },
  "language_info": {
   "codemirror_mode": {
    "name": "ipython",
    "version": 3
   },
   "file_extension": ".py",
   "mimetype": "text/x-python",
   "name": "python",
   "nbconvert_exporter": "python",
   "pygments_lexer": "ipython3",
   "version": "3.11.2"
  }
 },
 "nbformat": 4,
 "nbformat_minor": 5
}
